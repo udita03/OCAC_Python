{
 "cells": [
  {
   "cell_type": "markdown",
   "id": "abf3a1db-520e-4040-8a50-0eeee851fa94",
   "metadata": {},
   "source": [
    "# Data Type"
   ]
  },
  {
   "cell_type": "markdown",
   "id": "fc85ec45-4f55-4865-bf05-3f6ae6c4cef7",
   "metadata": {},
   "source": [
    "##### There are two types of data types"
   ]
  },
  {
   "cell_type": "markdown",
   "id": "f6a1a7b8-9b39-4789-8db2-fc46450c192b",
   "metadata": {},
   "source": [
    "### Fundamental Data Type"
   ]
  },
  {
   "cell_type": "markdown",
   "id": "52c7e8e2-79d0-4725-88cb-d4291581a8e2",
   "metadata": {},
   "source": [
    "### 1 Int"
   ]
  },
  {
   "cell_type": "code",
   "execution_count": 1,
   "id": "e829dad2-d7f1-40ca-a2c1-a10f0db19dee",
   "metadata": {},
   "outputs": [
    {
     "data": {
      "text/plain": [
       "90"
      ]
     },
     "execution_count": 1,
     "metadata": {},
     "output_type": "execute_result"
    }
   ],
   "source": [
    "# It only takes the numbers withou decimal or complex number\n",
    "a=90\n",
    "a"
   ]
  },
  {
   "cell_type": "code",
   "execution_count": 2,
   "id": "eeeae73d-d20c-4c0a-a681-4da1549c46bb",
   "metadata": {},
   "outputs": [
    {
     "data": {
      "text/plain": [
       "int"
      ]
     },
     "execution_count": 2,
     "metadata": {},
     "output_type": "execute_result"
    }
   ],
   "source": [
    "type(a) # \"Type\" is used to check the data type"
   ]
  },
  {
   "cell_type": "code",
   "execution_count": 11,
   "id": "d1d08dd3-08e1-45d8-b6be-b7fb4055882e",
   "metadata": {},
   "outputs": [
    {
     "name": "stdout",
     "output_type": "stream",
     "text": [
      "<class 'int'>\n"
     ]
    },
    {
     "data": {
      "text/plain": [
       "45"
      ]
     },
     "execution_count": 11,
     "metadata": {},
     "output_type": "execute_result"
    }
   ],
   "source": [
    "g=45\n",
    "print(type(g))\n",
    "g"
   ]
  },
  {
   "cell_type": "markdown",
   "id": "2979df0a-574e-456c-8619-0889f0739dcc",
   "metadata": {},
   "source": [
    "### 2. Float"
   ]
  },
  {
   "cell_type": "code",
   "execution_count": 7,
   "id": "ca3cea9b-9cd3-4ea5-9b6e-6e193d96695f",
   "metadata": {},
   "outputs": [
    {
     "data": {
      "text/plain": [
       "90.5"
      ]
     },
     "execution_count": 7,
     "metadata": {},
     "output_type": "execute_result"
    }
   ],
   "source": [
    "h=90.5\n",
    "h"
   ]
  },
  {
   "cell_type": "code",
   "execution_count": 8,
   "id": "d3143190-b254-49f0-b0ca-e02a233255c3",
   "metadata": {},
   "outputs": [
    {
     "data": {
      "text/plain": [
       "float"
      ]
     },
     "execution_count": 8,
     "metadata": {},
     "output_type": "execute_result"
    }
   ],
   "source": [
    "type(h)"
   ]
  },
  {
   "cell_type": "code",
   "execution_count": 9,
   "id": "a7d033ef-b680-474c-8c77-b97cc170e28e",
   "metadata": {},
   "outputs": [
    {
     "name": "stdout",
     "output_type": "stream",
     "text": [
      "<class 'int'>\n",
      "<class 'float'>\n"
     ]
    }
   ],
   "source": [
    "x=56\n",
    "y=40.5\n",
    "print(type(x))\n",
    "print(type(y))"
   ]
  },
  {
   "cell_type": "code",
   "execution_count": 12,
   "id": "a3f2a06b-f26c-4337-87e2-c99d9d30a3a0",
   "metadata": {},
   "outputs": [
    {
     "name": "stdout",
     "output_type": "stream",
     "text": [
      "96.5\n"
     ]
    }
   ],
   "source": [
    "x=56\n",
    "y=40.5\n",
    "print(x+y) "
   ]
  },
  {
   "cell_type": "code",
   "execution_count": 14,
   "id": "661015a0-c657-4241-b087-c250d7ec064b",
   "metadata": {},
   "outputs": [
    {
     "name": "stdout",
     "output_type": "stream",
     "text": [
      "15.5\n",
      "<class 'float'>\n"
     ]
    }
   ],
   "source": [
    "x=56\n",
    "y=40.5\n",
    "print(x-y) \n",
    "print(type(x-y))"
   ]
  },
  {
   "cell_type": "markdown",
   "id": "b283012e-4240-4bc5-8722-062b7dcfd31a",
   "metadata": {},
   "source": [
    "### Type Casting"
   ]
  },
  {
   "cell_type": "code",
   "execution_count": 15,
   "id": "cfa3bdca-cdf4-4e07-b6e8-54385c12e27b",
   "metadata": {},
   "outputs": [
    {
     "data": {
      "text/plain": [
       "45"
      ]
     },
     "execution_count": 15,
     "metadata": {},
     "output_type": "execute_result"
    }
   ],
   "source": [
    "u=45.67\n",
    "int(u)\n",
    "# convert one data type to another data  type is known as \"Type Casting\""
   ]
  },
  {
   "cell_type": "code",
   "execution_count": 16,
   "id": "d1e2247b-8fc9-4e00-8596-d0e388e17cdf",
   "metadata": {},
   "outputs": [
    {
     "data": {
      "text/plain": [
       "56.0"
      ]
     },
     "execution_count": 16,
     "metadata": {},
     "output_type": "execute_result"
    }
   ],
   "source": [
    "u=56\n",
    "float(u)"
   ]
  },
  {
   "cell_type": "code",
   "execution_count": 18,
   "id": "b3573b23-e61c-4a80-9a60-e370793fe964",
   "metadata": {},
   "outputs": [
    {
     "data": {
      "text/plain": [
       "90"
      ]
     },
     "execution_count": 18,
     "metadata": {},
     "output_type": "execute_result"
    }
   ],
   "source": [
    "u='hi'\n",
    "int(h)"
   ]
  },
  {
   "cell_type": "code",
   "execution_count": 19,
   "id": "36ee6268-c1d4-4cb7-8d65-2263bc89a66d",
   "metadata": {},
   "outputs": [
    {
     "data": {
      "text/plain": [
       "90.5"
      ]
     },
     "execution_count": 19,
     "metadata": {},
     "output_type": "execute_result"
    }
   ],
   "source": [
    "u='hi'\n",
    "float(h)"
   ]
  },
  {
   "cell_type": "code",
   "execution_count": 58,
   "id": "94765712-2e4d-4177-b6ad-55855b4fca3a",
   "metadata": {},
   "outputs": [
    {
     "name": "stdout",
     "output_type": "stream",
     "text": [
      "<class 'float'>\n"
     ]
    }
   ],
   "source": [
    "t=010.501\n",
    "print(t)\n",
    "print(type(t))"
   ]
  },
  {
   "cell_type": "code",
   "execution_count": null,
   "id": "3a09a89b-20a2-4f1a-af05-f957e92dd56f",
   "metadata": {},
   "outputs": [],
   "source": []
  },
  {
   "cell_type": "markdown",
   "id": "04c1e2fe-54ea-41b0-b686-c705774ba354",
   "metadata": {},
   "source": [
    "##### 3. Boolean"
   ]
  },
  {
   "cell_type": "code",
   "execution_count": 21,
   "id": "f598b024-8390-430c-b385-870786dcd99b",
   "metadata": {},
   "outputs": [
    {
     "data": {
      "text/plain": [
       "bool"
      ]
     },
     "execution_count": 21,
     "metadata": {},
     "output_type": "execute_result"
    }
   ],
   "source": [
    "r = True\n",
    "type(r)"
   ]
  },
  {
   "cell_type": "code",
   "execution_count": 22,
   "id": "d586c0da-2f80-4987-b6d9-14e7b5736296",
   "metadata": {},
   "outputs": [
    {
     "data": {
      "text/plain": [
       "bool"
      ]
     },
     "execution_count": 22,
     "metadata": {},
     "output_type": "execute_result"
    }
   ],
   "source": [
    "type(True)"
   ]
  },
  {
   "cell_type": "code",
   "execution_count": 23,
   "id": "a013348d-5896-49de-9f32-cac9099f7868",
   "metadata": {},
   "outputs": [
    {
     "data": {
      "text/plain": [
       "bool"
      ]
     },
     "execution_count": 23,
     "metadata": {},
     "output_type": "execute_result"
    }
   ],
   "source": [
    "type(False)"
   ]
  },
  {
   "cell_type": "code",
   "execution_count": 24,
   "id": "084b2613-a4a1-43d0-aca3-76a3a5185795",
   "metadata": {},
   "outputs": [
    {
     "data": {
      "text/plain": [
       "0"
      ]
     },
     "execution_count": 24,
     "metadata": {},
     "output_type": "execute_result"
    }
   ],
   "source": [
    "int(False)"
   ]
  },
  {
   "cell_type": "code",
   "execution_count": 25,
   "id": "59f50788-1db4-4924-933d-178d08d07e2d",
   "metadata": {},
   "outputs": [
    {
     "data": {
      "text/plain": [
       "1"
      ]
     },
     "execution_count": 25,
     "metadata": {},
     "output_type": "execute_result"
    }
   ],
   "source": [
    "int(True)"
   ]
  },
  {
   "cell_type": "code",
   "execution_count": 27,
   "id": "50a61190-e32e-4ff2-8a8a-56840472efb7",
   "metadata": {},
   "outputs": [
    {
     "data": {
      "text/plain": [
       "0"
      ]
     },
     "execution_count": 27,
     "metadata": {},
     "output_type": "execute_result"
    }
   ],
   "source": [
    "int(True^True)"
   ]
  },
  {
   "cell_type": "code",
   "execution_count": 28,
   "id": "5e7ea129-c884-4a23-adf6-65ee6f7b1e6a",
   "metadata": {},
   "outputs": [
    {
     "data": {
      "text/plain": [
       "2"
      ]
     },
     "execution_count": 28,
     "metadata": {},
     "output_type": "execute_result"
    }
   ],
   "source": [
    "int(True + True)"
   ]
  },
  {
   "cell_type": "code",
   "execution_count": 30,
   "id": "5299f19b-4c14-4c00-a939-4bbeb5b83818",
   "metadata": {},
   "outputs": [
    {
     "data": {
      "text/plain": [
       "int"
      ]
     },
     "execution_count": 30,
     "metadata": {},
     "output_type": "execute_result"
    }
   ],
   "source": [
    "type (True + True)"
   ]
  },
  {
   "cell_type": "code",
   "execution_count": 31,
   "id": "282a0a46-051a-4a80-95b3-ecd924ddfd46",
   "metadata": {},
   "outputs": [
    {
     "data": {
      "text/plain": [
       "5.6"
      ]
     },
     "execution_count": 31,
     "metadata": {},
     "output_type": "execute_result"
    }
   ],
   "source": [
    "a=5.6\n",
    "b= False\n",
    "a+b"
   ]
  },
  {
   "cell_type": "code",
   "execution_count": 32,
   "id": "a6f690e6-ee6a-406e-8979-53f5b36a2f3b",
   "metadata": {},
   "outputs": [
    {
     "data": {
      "text/plain": [
       "6.6"
      ]
     },
     "execution_count": 32,
     "metadata": {},
     "output_type": "execute_result"
    }
   ],
   "source": [
    "a=5.6\n",
    "b= True\n",
    "a+b"
   ]
  },
  {
   "cell_type": "code",
   "execution_count": 66,
   "id": "d0e20508-b8cd-448c-afbf-a33302754c44",
   "metadata": {},
   "outputs": [
    {
     "data": {
      "text/plain": [
       "0"
      ]
     },
     "execution_count": 66,
     "metadata": {},
     "output_type": "execute_result"
    }
   ],
   "source": [
    "b=3\n",
    "c=False\n",
    "b*c"
   ]
  },
  {
   "cell_type": "code",
   "execution_count": 59,
   "id": "36828cd6-c46f-4399-9507-41131b323781",
   "metadata": {},
   "outputs": [
    {
     "data": {
      "text/plain": [
       "True"
      ]
     },
     "execution_count": 59,
     "metadata": {},
     "output_type": "execute_result"
    }
   ],
   "source": [
    "010.5 == 010.50"
   ]
  },
  {
   "cell_type": "code",
   "execution_count": 61,
   "id": "7aa29d38-3b87-4f19-936c-bc594f9bc30b",
   "metadata": {},
   "outputs": [
    {
     "name": "stdout",
     "output_type": "stream",
     "text": [
      "5\n"
     ]
    }
   ],
   "source": [
    "print(5)"
   ]
  },
  {
   "cell_type": "code",
   "execution_count": 62,
   "id": "2e5ce394-06b8-41cf-85b2-829889160097",
   "metadata": {},
   "outputs": [
    {
     "name": "stdout",
     "output_type": "stream",
     "text": [
      "13\n"
     ]
    }
   ],
   "source": [
    "print(0o0015)"
   ]
  },
  {
   "cell_type": "code",
   "execution_count": 64,
   "id": "f4bdb1e5-9646-432b-85e5-6bb00fd663e1",
   "metadata": {},
   "outputs": [
    {
     "name": "stdout",
     "output_type": "stream",
     "text": [
      "5.0\n"
     ]
    }
   ],
   "source": [
    "print(5.0)"
   ]
  },
  {
   "cell_type": "code",
   "execution_count": 63,
   "id": "0de28e20-7ce3-4e6b-af05-0475bb883773",
   "metadata": {},
   "outputs": [
    {
     "name": "stdout",
     "output_type": "stream",
     "text": [
      "15.15\n"
     ]
    }
   ],
   "source": [
    "print(0015.1500)"
   ]
  },
  {
   "cell_type": "markdown",
   "id": "b60bfbb6-6821-42e1-ae0f-b3865b49b731",
   "metadata": {},
   "source": [
    "### Complex"
   ]
  },
  {
   "cell_type": "markdown",
   "id": "566b548b-e75c-4068-8b34-84c5dfb13958",
   "metadata": {},
   "source": [
    "##### Complex literals are created by using the nonation \"x+yj\" where x are real components and 'y' is the imaginary component."
   ]
  },
  {
   "cell_type": "code",
   "execution_count": 40,
   "id": "e2884ac4-81a1-4f4c-abe6-bc3d780ca4fd",
   "metadata": {},
   "outputs": [],
   "source": [
    "e=10+20j  # complex number , 'j' is specify the imaginary part"
   ]
  },
  {
   "cell_type": "code",
   "execution_count": 41,
   "id": "1f746dec-6793-46e6-b643-f54861315d10",
   "metadata": {},
   "outputs": [
    {
     "data": {
      "text/plain": [
       "complex"
      ]
     },
     "execution_count": 41,
     "metadata": {},
     "output_type": "execute_result"
    }
   ],
   "source": [
    "type(e)"
   ]
  },
  {
   "cell_type": "code",
   "execution_count": 42,
   "id": "237d6e8d-198a-486f-9156-1c330aaf44d6",
   "metadata": {},
   "outputs": [
    {
     "data": {
      "text/plain": [
       "10.0"
      ]
     },
     "execution_count": 42,
     "metadata": {},
     "output_type": "execute_result"
    }
   ],
   "source": [
    "e.real # to get real value"
   ]
  },
  {
   "cell_type": "code",
   "execution_count": 43,
   "id": "2ccb874b-2349-4177-81d7-972cdf61a10a",
   "metadata": {},
   "outputs": [
    {
     "data": {
      "text/plain": [
       "20.0"
      ]
     },
     "execution_count": 43,
     "metadata": {},
     "output_type": "execute_result"
    }
   ],
   "source": [
    "e.imag # to get imaginary value"
   ]
  },
  {
   "cell_type": "code",
   "execution_count": 51,
   "id": "1ba42cac-ac21-4e66-b343-b698dae527f1",
   "metadata": {},
   "outputs": [
    {
     "ename": "SyntaxError",
     "evalue": "invalid decimal literal (3351490932.py, line 1)",
     "output_type": "error",
     "traceback": [
      "\u001b[1;36m  Cell \u001b[1;32mIn[51], line 1\u001b[1;36m\u001b[0m\n\u001b[1;33m    w= 1.0 - 2.0o\u001b[0m\n\u001b[1;37m               ^\u001b[0m\n\u001b[1;31mSyntaxError\u001b[0m\u001b[1;31m:\u001b[0m invalid decimal literal\n"
     ]
    }
   ],
   "source": [
    "w= 1.0 - 2.0o\n",
    "print(w.real, w.imag)"
   ]
  },
  {
   "cell_type": "code",
   "execution_count": 52,
   "id": "01c3e14a-9a5a-40dd-93a1-fab03020ee57",
   "metadata": {},
   "outputs": [
    {
     "name": "stdout",
     "output_type": "stream",
     "text": [
      "1.0 -2.0\n"
     ]
    }
   ],
   "source": [
    "w= 1.0 - 2.0j\n",
    "print(w.real, w.imag)"
   ]
  },
  {
   "cell_type": "code",
   "execution_count": 72,
   "id": "b5deee01-c307-4c35-9422-c44c5e19c077",
   "metadata": {},
   "outputs": [],
   "source": [
    "u=10+(-20j)"
   ]
  },
  {
   "cell_type": "code",
   "execution_count": 73,
   "id": "1e9bcc4a-b65d-49bb-9471-876f956d36e7",
   "metadata": {},
   "outputs": [
    {
     "data": {
      "text/plain": [
       "10.0"
      ]
     },
     "execution_count": 73,
     "metadata": {},
     "output_type": "execute_result"
    }
   ],
   "source": [
    "u.real"
   ]
  },
  {
   "cell_type": "code",
   "execution_count": 74,
   "id": "44b9b7b9-851e-4ef1-8ed4-43333a301c87",
   "metadata": {},
   "outputs": [
    {
     "data": {
      "text/plain": [
       "-20.0"
      ]
     },
     "execution_count": 74,
     "metadata": {},
     "output_type": "execute_result"
    }
   ],
   "source": [
    "u.imag"
   ]
  },
  {
   "cell_type": "code",
   "execution_count": 77,
   "id": "11c25efc-7ab1-49b8-bda6-bc70b91a961e",
   "metadata": {},
   "outputs": [],
   "source": [
    "i =10+ -2j"
   ]
  },
  {
   "cell_type": "code",
   "execution_count": 78,
   "id": "3450a12e-b474-4b54-b52f-6a2001629362",
   "metadata": {},
   "outputs": [
    {
     "data": {
      "text/plain": [
       "-2.0"
      ]
     },
     "execution_count": 78,
     "metadata": {},
     "output_type": "execute_result"
    }
   ],
   "source": [
    "i.imag"
   ]
  },
  {
   "cell_type": "markdown",
   "id": "8e5e78ec-3935-4f23-99d0-4a41d8b60a36",
   "metadata": {},
   "source": [
    "### String"
   ]
  },
  {
   "cell_type": "code",
   "execution_count": 79,
   "id": "22b0b0c9-eaf5-4d0c-83c2-4afb5e8de875",
   "metadata": {},
   "outputs": [
    {
     "name": "stdout",
     "output_type": "stream",
     "text": [
      "Hello\n",
      "Hello\n",
      "Hello\n"
     ]
    }
   ],
   "source": [
    "a1='Hello'\n",
    "print(a1)\n",
    "\n",
    "a2=\"Hello\"\n",
    "print(a2)\n",
    "\n",
    "a3='''Hello'''\n",
    "print(a3)"
   ]
  },
  {
   "cell_type": "code",
   "execution_count": 80,
   "id": "64058d57-9ed7-49bc-92a3-2a4f5b41af22",
   "metadata": {},
   "outputs": [
    {
     "data": {
      "text/plain": [
       "str"
      ]
     },
     "execution_count": 80,
     "metadata": {},
     "output_type": "execute_result"
    }
   ],
   "source": [
    "a='sonu'\n",
    "type(a)"
   ]
  },
  {
   "cell_type": "code",
   "execution_count": 85,
   "id": "a1464a3c-d717-48fe-9801-e76066fd3b42",
   "metadata": {},
   "outputs": [
    {
     "ename": "ValueError",
     "evalue": "invalid literal for int() with base 10: 'sonu'",
     "output_type": "error",
     "traceback": [
      "\u001b[1;31m---------------------------------------------------------------------------\u001b[0m",
      "\u001b[1;31mValueError\u001b[0m                                Traceback (most recent call last)",
      "Cell \u001b[1;32mIn[85], line 1\u001b[0m\n\u001b[1;32m----> 1\u001b[0m \u001b[38;5;28mint\u001b[39m(a)\n",
      "\u001b[1;31mValueError\u001b[0m: invalid literal for int() with base 10: 'sonu'"
     ]
    }
   ],
   "source": [
    "int(a)"
   ]
  },
  {
   "cell_type": "code",
   "execution_count": 89,
   "id": "908f0125-3814-49e4-87ec-c921dfa122bd",
   "metadata": {},
   "outputs": [
    {
     "name": "stdin",
     "output_type": "stream",
     "text": [
      "Enter a decimal number 250.5\n"
     ]
    },
    {
     "ename": "ValueError",
     "evalue": "invalid literal for int() with base 10: '250.5'",
     "output_type": "error",
     "traceback": [
      "\u001b[1;31m---------------------------------------------------------------------------\u001b[0m",
      "\u001b[1;31mValueError\u001b[0m                                Traceback (most recent call last)",
      "Cell \u001b[1;32mIn[89], line 2\u001b[0m\n\u001b[0;32m      1\u001b[0m b\u001b[38;5;241m=\u001b[39m \u001b[38;5;28minput\u001b[39m(\u001b[38;5;124m\"\u001b[39m\u001b[38;5;124mEnter a decimal number\u001b[39m\u001b[38;5;124m\"\u001b[39m)\n\u001b[1;32m----> 2\u001b[0m \u001b[38;5;28mint\u001b[39m(b)\n",
      "\u001b[1;31mValueError\u001b[0m: invalid literal for int() with base 10: '250.5'"
     ]
    }
   ],
   "source": [
    "b= input(\"Enter a decimal number\")\n",
    "int(b)\n"
   ]
  },
  {
   "cell_type": "code",
   "execution_count": 90,
   "id": "502ccea3-23ce-4ebf-acc1-a1b6e8251946",
   "metadata": {},
   "outputs": [
    {
     "data": {
      "text/plain": [
       "250.5"
      ]
     },
     "execution_count": 90,
     "metadata": {},
     "output_type": "execute_result"
    }
   ],
   "source": [
    "float(b)"
   ]
  },
  {
   "cell_type": "code",
   "execution_count": 91,
   "id": "85712991-8072-46a0-91b8-594e6724ad9b",
   "metadata": {},
   "outputs": [
    {
     "data": {
      "text/plain": [
       "250"
      ]
     },
     "execution_count": 91,
     "metadata": {},
     "output_type": "execute_result"
    }
   ],
   "source": [
    "int(float(b))"
   ]
  },
  {
   "cell_type": "code",
   "execution_count": 92,
   "id": "b2c16a4e-e4f8-4a53-8ad3-60dce4ba2688",
   "metadata": {},
   "outputs": [
    {
     "name": "stdout",
     "output_type": "stream",
     "text": [
      "my \"laptop\"\n"
     ]
    }
   ],
   "source": [
    "print('my \"laptop\"')"
   ]
  },
  {
   "cell_type": "code",
   "execution_count": 96,
   "id": "7336ecc7-b546-4e98-82f9-75bd97cc8ac8",
   "metadata": {},
   "outputs": [
    {
     "ename": "SyntaxError",
     "evalue": "unterminated string literal (detected at line 1) (970289196.py, line 1)",
     "output_type": "error",
     "traceback": [
      "\u001b[1;36m  Cell \u001b[1;32mIn[96], line 1\u001b[1;36m\u001b[0m\n\u001b[1;33m    print(\" his's' laptop\" \")\u001b[0m\n\u001b[1;37m                           ^\u001b[0m\n\u001b[1;31mSyntaxError\u001b[0m\u001b[1;31m:\u001b[0m unterminated string literal (detected at line 1)\n"
     ]
    }
   ],
   "source": [
    "print(\" his's laptop\" \")"
   ]
  },
  {
   "cell_type": "code",
   "execution_count": 98,
   "id": "085710a8-12c0-494f-b6f2-51978319c549",
   "metadata": {},
   "outputs": [
    {
     "name": "stdout",
     "output_type": "stream",
     "text": [
      " his's \"laptop\" \n"
     ]
    }
   ],
   "source": [
    "print(' his\\'s \"laptop\" ')"
   ]
  },
  {
   "cell_type": "code",
   "execution_count": 2,
   "id": "006d735b-fa1e-46aa-b33e-7b1b5a556241",
   "metadata": {},
   "outputs": [
    {
     "data": {
      "text/plain": [
       "'zxsd@234'"
      ]
     },
     "execution_count": 2,
     "metadata": {},
     "output_type": "execute_result"
    }
   ],
   "source": [
    "r='zxsd@234'\n",
    "r"
   ]
  },
  {
   "cell_type": "code",
   "execution_count": 3,
   "id": "ee376fa9-48b7-4e95-93cc-124394b831ef",
   "metadata": {},
   "outputs": [
    {
     "ename": "ValueError",
     "evalue": "invalid literal for int() with base 10: 'zxsd@234'",
     "output_type": "error",
     "traceback": [
      "\u001b[1;31m---------------------------------------------------------------------------\u001b[0m",
      "\u001b[1;31mValueError\u001b[0m                                Traceback (most recent call last)",
      "Cell \u001b[1;32mIn[3], line 1\u001b[0m\n\u001b[1;32m----> 1\u001b[0m \u001b[38;5;28mint\u001b[39m(r)\n",
      "\u001b[1;31mValueError\u001b[0m: invalid literal for int() with base 10: 'zxsd@234'"
     ]
    }
   ],
   "source": [
    "int(r)"
   ]
  },
  {
   "cell_type": "markdown",
   "id": "101ec6a8-b178-4aa2-aaa1-c899220bcadb",
   "metadata": {},
   "source": [
    "#### Concatenation "
   ]
  },
  {
   "cell_type": "code",
   "execution_count": 2,
   "id": "c9ffaf15-f859-45e4-aa0b-c3b899b61621",
   "metadata": {},
   "outputs": [
    {
     "data": {
      "text/plain": [
       "'8911'"
      ]
     },
     "execution_count": 2,
     "metadata": {},
     "output_type": "execute_result"
    }
   ],
   "source": [
    "a=\"89\"  # a & b declared as string\n",
    "b=\"11\"\n",
    "a+b # concatenation of two string\n",
    "     # '+' is used to concentrate strings"
   ]
  },
  {
   "cell_type": "code",
   "execution_count": 3,
   "id": "242f902f-52c5-4c1a-8876-ededec646feb",
   "metadata": {},
   "outputs": [
    {
     "data": {
      "text/plain": [
       "8911"
      ]
     },
     "execution_count": 3,
     "metadata": {},
     "output_type": "execute_result"
    }
   ],
   "source": [
    "int(a+b) # it only convert string value inti integer value"
   ]
  },
  {
   "cell_type": "code",
   "execution_count": 4,
   "id": "b821b67f-5c14-4538-9b4e-74143e13fe32",
   "metadata": {},
   "outputs": [
    {
     "data": {
      "text/plain": [
       "100"
      ]
     },
     "execution_count": 4,
     "metadata": {},
     "output_type": "execute_result"
    }
   ],
   "source": [
    "int(a) + int(b) # this will convet the string into integer separately then do the operation"
   ]
  },
  {
   "cell_type": "code",
   "execution_count": 5,
   "id": "b17d17d1-949a-492d-bf6c-994807e2b822",
   "metadata": {},
   "outputs": [
    {
     "ename": "TypeError",
     "evalue": "can only concatenate str (not \"int\") to str",
     "output_type": "error",
     "traceback": [
      "\u001b[1;31m---------------------------------------------------------------------------\u001b[0m",
      "\u001b[1;31mTypeError\u001b[0m                                 Traceback (most recent call last)",
      "Cell \u001b[1;32mIn[5], line 3\u001b[0m\n\u001b[0;32m      1\u001b[0m x\u001b[38;5;241m=\u001b[39m\u001b[38;5;124m'\u001b[39m\u001b[38;5;124m5\u001b[39m\u001b[38;5;124m'\u001b[39m\n\u001b[0;32m      2\u001b[0m y\u001b[38;5;241m=\u001b[39m\u001b[38;5;241m6\u001b[39m\n\u001b[1;32m----> 3\u001b[0m x\u001b[38;5;241m+\u001b[39my\n",
      "\u001b[1;31mTypeError\u001b[0m: can only concatenate str (not \"int\") to str"
     ]
    }
   ],
   "source": [
    "x='5'\n",
    "y=6\n",
    "x+y"
   ]
  },
  {
   "cell_type": "code",
   "execution_count": 6,
   "id": "42bf4384-d5e7-4229-bef5-c5111f94663b",
   "metadata": {},
   "outputs": [
    {
     "data": {
      "text/plain": [
       "11"
      ]
     },
     "execution_count": 6,
     "metadata": {},
     "output_type": "execute_result"
    }
   ],
   "source": [
    "int(x)+y"
   ]
  },
  {
   "cell_type": "code",
   "execution_count": 8,
   "id": "fbe982ff-31bf-46dd-93f9-1f865d7832af",
   "metadata": {},
   "outputs": [
    {
     "data": {
      "text/plain": [
       "56"
      ]
     },
     "execution_count": 8,
     "metadata": {},
     "output_type": "execute_result"
    }
   ],
   "source": [
    "int(x+str(y))"
   ]
  },
  {
   "cell_type": "code",
   "execution_count": 11,
   "id": "dce58352-1a7e-45cc-b8b1-3874adb5751d",
   "metadata": {},
   "outputs": [
    {
     "name": "stdout",
     "output_type": "stream",
     "text": [
      "wertyu12345\n"
     ]
    }
   ],
   "source": [
    "g=\"wertyu\"\n",
    "h=12345\n",
    "print(g+str(h))"
   ]
  },
  {
   "cell_type": "code",
   "execution_count": 12,
   "id": "183d9c5a-5c2f-47fc-aa26-1eff0e94fd8d",
   "metadata": {},
   "outputs": [
    {
     "data": {
      "text/plain": [
       "'fdbghgedsfg'"
      ]
     },
     "execution_count": 12,
     "metadata": {},
     "output_type": "execute_result"
    }
   ],
   "source": [
    "'fdbghg' + 'edsfg'"
   ]
  },
  {
   "cell_type": "code",
   "execution_count": 13,
   "id": "ebb6e62f-71e4-457f-a288-84fea8672393",
   "metadata": {},
   "outputs": [
    {
     "data": {
      "text/plain": [
       "'udiudiudi'"
      ]
     },
     "execution_count": 13,
     "metadata": {},
     "output_type": "execute_result"
    }
   ],
   "source": [
    "'udi' * 3   #repeat the string n times"
   ]
  },
  {
   "cell_type": "code",
   "execution_count": 14,
   "id": "f8f7fae4-8e12-400a-af6b-3b775815333f",
   "metadata": {},
   "outputs": [],
   "source": [
    "user= 'name'\n",
    "exam= 3"
   ]
  },
  {
   "cell_type": "code",
   "execution_count": 16,
   "id": "8a99e33d-8ed9-4fac-a950-497e785128a2",
   "metadata": {},
   "outputs": [
    {
     "name": "stdout",
     "output_type": "stream",
     "text": [
      "Congratulations, name you got the rank  3\n"
     ]
    }
   ],
   "source": [
    "print(\"Congratulations,\",user,\"you got the rank \", exam)"
   ]
  },
  {
   "cell_type": "code",
   "execution_count": 23,
   "id": "a8fe15af-5a89-454e-90fe-071cb1819d48",
   "metadata": {},
   "outputs": [
    {
     "name": "stdout",
     "output_type": "stream",
     "text": [
      "Congratulations , name you got the rank 3\n"
     ]
    }
   ],
   "source": [
    "print(\"Congratulations , \"  +  user + \" you got the rank \"+ str(exam))"
   ]
  },
  {
   "cell_type": "code",
   "execution_count": 24,
   "id": "97c8a404-4acc-46c1-aebd-622ac2723626",
   "metadata": {},
   "outputs": [
    {
     "data": {
      "text/plain": [
       "17"
      ]
     },
     "execution_count": 24,
     "metadata": {},
     "output_type": "execute_result"
    }
   ],
   "source": [
    "a='wersdtcfgvbhnjkml'\n",
    "len(a) # this will calculate length of the given string"
   ]
  },
  {
   "cell_type": "code",
   "execution_count": 26,
   "id": "cdeae505-cd3c-4634-9e1c-e193f0e4c9d5",
   "metadata": {},
   "outputs": [
    {
     "ename": "NameError",
     "evalue": "name 'a' is not defined",
     "output_type": "error",
     "traceback": [
      "\u001b[1;31m---------------------------------------------------------------------------\u001b[0m",
      "\u001b[1;31mNameError\u001b[0m                                 Traceback (most recent call last)",
      "Cell \u001b[1;32mIn[26], line 1\u001b[0m\n\u001b[1;32m----> 1\u001b[0m \u001b[38;5;28;01mdel\u001b[39;00m a\n\u001b[0;32m      2\u001b[0m \u001b[38;5;28mprint\u001b[39m (a)\n",
      "\u001b[1;31mNameError\u001b[0m: name 'a' is not defined"
     ]
    }
   ],
   "source": [
    "del a    # delete a complete string\n",
    "print (a)"
   ]
  },
  {
   "cell_type": "markdown",
   "id": "bbd3e43d-8a58-46ef-b477-30fd4b2f73d6",
   "metadata": {},
   "source": [
    "#### Access character in a string using Indexing"
   ]
  },
  {
   "cell_type": "code",
   "execution_count": 27,
   "id": "4f618b2f-669f-4726-b66a-038a2b7da52f",
   "metadata": {},
   "outputs": [],
   "source": [
    "stri='Hello'"
   ]
  },
  {
   "cell_type": "code",
   "execution_count": 28,
   "id": "6ff7a02c-e8f1-4faa-a17b-c565f58e5e09",
   "metadata": {},
   "outputs": [
    {
     "name": "stdout",
     "output_type": "stream",
     "text": [
      "H\n"
     ]
    }
   ],
   "source": [
    "print(stri[0])  # printing the first character\n",
    "                # string index value always starts from '0'"
   ]
  },
  {
   "cell_type": "code",
   "execution_count": 30,
   "id": "14453d69-52ad-4b99-9418-62b98990264c",
   "metadata": {},
   "outputs": [
    {
     "name": "stdout",
     "output_type": "stream",
     "text": [
      "o\n"
     ]
    }
   ],
   "source": [
    "print(stri[-1])  #to print the last character of given string"
   ]
  },
  {
   "cell_type": "code",
   "execution_count": 34,
   "id": "5501c9d5-30ff-4d5b-afc5-e823bdff65d3",
   "metadata": {},
   "outputs": [
    {
     "ename": "IndexError",
     "evalue": "string index out of range",
     "output_type": "error",
     "traceback": [
      "\u001b[1;31m---------------------------------------------------------------------------\u001b[0m",
      "\u001b[1;31mIndexError\u001b[0m                                Traceback (most recent call last)",
      "Cell \u001b[1;32mIn[34], line 1\u001b[0m\n\u001b[1;32m----> 1\u001b[0m \u001b[38;5;28mprint\u001b[39m(stri[\u001b[38;5;241m6\u001b[39m])\n",
      "\u001b[1;31mIndexError\u001b[0m: string index out of range"
     ]
    }
   ],
   "source": [
    "print(stri[6])     #if we try to access index out of the range , it will show index error"
   ]
  },
  {
   "cell_type": "code",
   "execution_count": 35,
   "id": "d7743ce8-5208-42a3-9c73-1482a968d490",
   "metadata": {},
   "outputs": [
    {
     "name": "stdout",
     "output_type": "stream",
     "text": [
      "l\n"
     ]
    }
   ],
   "source": [
    "print(stri[-2])  #printing character using negative indexing"
   ]
  },
  {
   "cell_type": "code",
   "execution_count": 36,
   "id": "e40cddde-3da0-4940-a757-500008abe3b5",
   "metadata": {},
   "outputs": [
    {
     "ename": "TypeError",
     "evalue": "string indices must be integers, not 'float'",
     "output_type": "error",
     "traceback": [
      "\u001b[1;31m---------------------------------------------------------------------------\u001b[0m",
      "\u001b[1;31mTypeError\u001b[0m                                 Traceback (most recent call last)",
      "Cell \u001b[1;32mIn[36], line 1\u001b[0m\n\u001b[1;32m----> 1\u001b[0m \u001b[38;5;28mprint\u001b[39m(stri[\u001b[38;5;241m3.4\u001b[39m])\n",
      "\u001b[1;31mTypeError\u001b[0m: string indices must be integers, not 'float'"
     ]
    }
   ],
   "source": [
    "print(stri[3.4]) #if we try to access index inn decimal number , it will show index error"
   ]
  },
  {
   "cell_type": "markdown",
   "id": "88c1cff0-0375-4093-a49d-475121210532",
   "metadata": {},
   "source": [
    "### Immutable string"
   ]
  },
  {
   "cell_type": "code",
   "execution_count": 37,
   "id": "3f7735c2-8c09-45a8-bb65-f30f2b80bf96",
   "metadata": {},
   "outputs": [
    {
     "ename": "TypeError",
     "evalue": "'str' object does not support item assignment",
     "output_type": "error",
     "traceback": [
      "\u001b[1;31m---------------------------------------------------------------------------\u001b[0m",
      "\u001b[1;31mTypeError\u001b[0m                                 Traceback (most recent call last)",
      "Cell \u001b[1;32mIn[37], line 3\u001b[0m\n\u001b[0;32m      1\u001b[0m \u001b[38;5;66;03m# Strings are immutable because elements of string can not be changed once it has been assigned\u001b[39;00m\n\u001b[0;32m      2\u001b[0m x\u001b[38;5;241m=\u001b[39m\u001b[38;5;124m\"\u001b[39m\u001b[38;5;124mHello\u001b[39m\u001b[38;5;124m\"\u001b[39m\n\u001b[1;32m----> 3\u001b[0m x[\u001b[38;5;241m3\u001b[39m]\u001b[38;5;241m=\u001b[39m\u001b[38;5;124m'\u001b[39m\u001b[38;5;124me\u001b[39m\u001b[38;5;124m'\u001b[39m\n",
      "\u001b[1;31mTypeError\u001b[0m: 'str' object does not support item assignment"
     ]
    }
   ],
   "source": [
    "# Strings are immutable because elements of string can not be changed once it has been assigned\n",
    "x=\"Hello\"\n",
    "x[3]='e'"
   ]
  },
  {
   "cell_type": "markdown",
   "id": "a5e0581e-085a-4d0e-9439-c390f6935f58",
   "metadata": {},
   "source": [
    "### String Slicing"
   ]
  },
  {
   "cell_type": "code",
   "execution_count": 38,
   "id": "7d81ae33-cdb0-44a3-bedd-5d4bb60f752f",
   "metadata": {},
   "outputs": [
    {
     "name": "stdout",
     "output_type": "stream",
     "text": [
      "ll\n"
     ]
    }
   ],
   "source": [
    "print(x[2:4])  # it will slice the string ,having index value from 2 to 4\n",
    "                # it will print the character in between them."
   ]
  },
  {
   "cell_type": "code",
   "execution_count": 39,
   "id": "65d4c45a-96f8-4f53-8a9d-0947368bf128",
   "metadata": {},
   "outputs": [
    {
     "name": "stdout",
     "output_type": "stream",
     "text": [
      "Hell\n"
     ]
    }
   ],
   "source": [
    "print(x[0:4])  "
   ]
  },
  {
   "cell_type": "code",
   "execution_count": 40,
   "id": "54ac1b53-f2b0-4db7-9305-34f119c78a98",
   "metadata": {},
   "outputs": [
    {
     "name": "stdout",
     "output_type": "stream",
     "text": [
      "Hel\n"
     ]
    }
   ],
   "source": [
    "print(x[ :3]) #if there is blank space in the first position in the syntax \n",
    "            #it means it will take from the start index value from given string"
   ]
  },
  {
   "cell_type": "code",
   "execution_count": 41,
   "id": "d17b6b2e-495e-406d-9f6b-c9d2076bba91",
   "metadata": {},
   "outputs": [
    {
     "name": "stdout",
     "output_type": "stream",
     "text": [
      "lo\n"
     ]
    }
   ],
   "source": [
    "print(x[3: ]) #if there is blank space in the last position in the syntax \n",
    "     #it means it will take from the given value to the end index value from given string"
   ]
  },
  {
   "cell_type": "code",
   "execution_count": 42,
   "id": "65f7cd35-6e68-4aca-8963-21bbbe8f412a",
   "metadata": {},
   "outputs": [
    {
     "name": "stdout",
     "output_type": "stream",
     "text": [
      "Hello\n"
     ]
    }
   ],
   "source": [
    "print(x[: ])  #defalut it will take from the start to the end"
   ]
  },
  {
   "cell_type": "code",
   "execution_count": 44,
   "id": "fa13aebe-c885-4b19-bda0-094fcd9dc7bd",
   "metadata": {},
   "outputs": [
    {
     "data": {
      "text/plain": [
       "''"
      ]
     },
     "execution_count": 44,
     "metadata": {},
     "output_type": "execute_result"
    }
   ],
   "source": [
    "x[3: 2] #the first position will always smaller then the last position"
   ]
  },
  {
   "cell_type": "code",
   "execution_count": 46,
   "id": "4c44ee2d-ed4d-48c6-a693-0c3def22aeda",
   "metadata": {},
   "outputs": [
    {
     "name": "stdout",
     "output_type": "stream",
     "text": [
      "Hell\n"
     ]
    }
   ],
   "source": [
    "print(x[0:4:1]) # 0= start point, 4=last index value , 1=increment "
   ]
  },
  {
   "cell_type": "code",
   "execution_count": 47,
   "id": "eacb884a-81f5-4d75-8146-454302eef718",
   "metadata": {},
   "outputs": [
    {
     "name": "stdout",
     "output_type": "stream",
     "text": [
      "oll\n"
     ]
    }
   ],
   "source": [
    "print(x[-1:-4:-1]) #indexing also can be in negative side , but it starts from '-1'  "
   ]
  },
  {
   "cell_type": "markdown",
   "id": "8f2a0293-0f75-4256-b5c4-28b7f466e193",
   "metadata": {},
   "source": [
    "### String Method"
   ]
  },
  {
   "cell_type": "code",
   "execution_count": 1,
   "id": "5c3dff93-049b-4882-b374-9b8f4ceb8b89",
   "metadata": {},
   "outputs": [
    {
     "data": {
      "text/plain": [
       "'Good morning'"
      ]
     },
     "execution_count": 1,
     "metadata": {},
     "output_type": "execute_result"
    }
   ],
   "source": [
    "\"good morning\".capitalize() # it will capatilise only the first letter"
   ]
  },
  {
   "cell_type": "code",
   "execution_count": 2,
   "id": "610555d3-0887-4a70-b891-db441e184bef",
   "metadata": {},
   "outputs": [
    {
     "data": {
      "text/plain": [
       "'Hello'"
      ]
     },
     "execution_count": 2,
     "metadata": {},
     "output_type": "execute_result"
    }
   ],
   "source": [
    "\"hello\".capitalize()"
   ]
  },
  {
   "cell_type": "code",
   "execution_count": 3,
   "id": "d5cb24bf-93df-4ae6-9693-6394ccfe0061",
   "metadata": {},
   "outputs": [
    {
     "data": {
      "text/plain": [
       "'Hii'"
      ]
     },
     "execution_count": 3,
     "metadata": {},
     "output_type": "execute_result"
    }
   ],
   "source": [
    "x=\"hii\"   #it will capatilise letter of each word \n",
    "x.title()"
   ]
  },
  {
   "cell_type": "code",
   "execution_count": 4,
   "id": "86336a55-e93f-4f4e-9559-5a5d82619040",
   "metadata": {},
   "outputs": [
    {
     "data": {
      "text/plain": [
       "'Hello ! Good Afternoon'"
      ]
     },
     "execution_count": 4,
     "metadata": {},
     "output_type": "execute_result"
    }
   ],
   "source": [
    "y=\"hello ! good afternoon\" \n",
    "y.title()"
   ]
  },
  {
   "cell_type": "code",
   "execution_count": 5,
   "id": "2419d866-f7ac-44e6-a5a9-c5b36fd2b92d",
   "metadata": {},
   "outputs": [
    {
     "data": {
      "text/plain": [
       "'HII'"
      ]
     },
     "execution_count": 5,
     "metadata": {},
     "output_type": "execute_result"
    }
   ],
   "source": [
    "x.upper() # it will convert complete string into upper case"
   ]
  },
  {
   "cell_type": "code",
   "execution_count": 6,
   "id": "8c4a71cc-0e34-4135-85c8-6c9641f1e459",
   "metadata": {},
   "outputs": [
    {
     "data": {
      "text/plain": [
       "'RWTFCVGBH'"
      ]
     },
     "execution_count": 6,
     "metadata": {},
     "output_type": "execute_result"
    }
   ],
   "source": [
    "u=\"RWTfcvgbh\"\n",
    "u.upper() # it will convert complete string into lower case"
   ]
  },
  {
   "cell_type": "code",
   "execution_count": 2,
   "id": "bc570390-94a0-478c-95a5-a4192c25f87c",
   "metadata": {},
   "outputs": [
    {
     "data": {
      "text/plain": [
       "['my', 'mane', 'is', 'udita.']"
      ]
     },
     "execution_count": 2,
     "metadata": {},
     "output_type": "execute_result"
    }
   ],
   "source": [
    "p=\"my mane is udita.\" # it splits with space\n",
    "p.split(' ')"
   ]
  },
  {
   "cell_type": "code",
   "execution_count": 1,
   "id": "786f8f0f-dd23-4d98-adb4-112eea8909a2",
   "metadata": {},
   "outputs": [
    {
     "name": "stdin",
     "output_type": "stream",
     "text": [
      "enter e-mail id:- drftgh@gmail.com\n"
     ]
    },
    {
     "data": {
      "text/plain": [
       "['drftgh@gmail', 'com']"
      ]
     },
     "execution_count": 1,
     "metadata": {},
     "output_type": "execute_result"
    }
   ],
   "source": [
    "a= input(\"enter e-mail id:-\")  # it splits with dot\n",
    "a.split( '.') #argument"
   ]
  },
  {
   "cell_type": "code",
   "execution_count": 3,
   "id": "e1f2f0ee-3925-467b-9f8c-eb71c8650647",
   "metadata": {},
   "outputs": [
    {
     "data": {
      "text/plain": [
       "['my', 'mane', 'is', 'udita.']"
      ]
     },
     "execution_count": 3,
     "metadata": {},
     "output_type": "execute_result"
    }
   ],
   "source": [
    "\"my mane is udita.\".split() #default split by space"
   ]
  },
  {
   "cell_type": "code",
   "execution_count": 5,
   "id": "4910ba20-4fc4-40fa-b377-facb80462181",
   "metadata": {},
   "outputs": [
    {
     "data": {
      "text/plain": [
       "'hello   Good Morning .'"
      ]
     },
     "execution_count": 5,
     "metadata": {},
     "output_type": "execute_result"
    }
   ],
   "source": [
    "' '.join(['hello', ' ', 'Good','Morning','.']) "
   ]
  },
  {
   "cell_type": "code",
   "execution_count": 107,
   "id": "442c008a-e039-4f51-812d-7fb0a275b682",
   "metadata": {},
   "outputs": [
    {
     "data": {
      "text/plain": [
       "'..udita566..'"
      ]
     },
     "execution_count": 107,
     "metadata": {},
     "output_type": "execute_result"
    }
   ],
   "source": [
    "   a='udita566'\n",
    "a.center(12,'.')"
   ]
  },
  {
   "cell_type": "code",
   "execution_count": null,
   "id": "5e260f1f-0546-4bf0-91c7-154ca472c0f6",
   "metadata": {},
   "outputs": [],
   "source": []
  },
  {
   "cell_type": "code",
   "execution_count": null,
   "id": "9e78c167-4465-4c90-94bb-cf10eb4de26e",
   "metadata": {},
   "outputs": [],
   "source": []
  }
 ],
 "metadata": {
  "kernelspec": {
   "display_name": "Python 3 (ipykernel)",
   "language": "python",
   "name": "python3"
  },
  "language_info": {
   "codemirror_mode": {
    "name": "ipython",
    "version": 3
   },
   "file_extension": ".py",
   "mimetype": "text/x-python",
   "name": "python",
   "nbconvert_exporter": "python",
   "pygments_lexer": "ipython3",
   "version": "3.11.7"
  }
 },
 "nbformat": 4,
 "nbformat_minor": 5
}
