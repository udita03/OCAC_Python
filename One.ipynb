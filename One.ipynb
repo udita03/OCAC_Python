{
 "cells": [
  {
   "cell_type": "code",
   "execution_count": 2,
   "id": "85a3cc3c-7d01-40ae-bdd9-93e9c0fa785f",
   "metadata": {},
   "outputs": [
    {
     "name": "stdout",
     "output_type": "stream",
     "text": [
      "hello OCAC\n"
     ]
    }
   ],
   "source": [
    "print(\"hello OCAC\")"
   ]
  },
  {
   "cell_type": "code",
   "execution_count": 4,
   "id": "e2f36b7e-fd97-41b6-852f-bb9bfac9f562",
   "metadata": {},
   "outputs": [
    {
     "name": "stdout",
     "output_type": "stream",
     "text": [
      "8\n"
     ]
    }
   ],
   "source": [
    "print(8)"
   ]
  },
  {
   "cell_type": "code",
   "execution_count": 5,
   "id": "be9b4c55-8a8a-4333-8a7f-0b0f05525e93",
   "metadata": {},
   "outputs": [
    {
     "data": {
      "text/plain": [
       "'C:\\\\Users\\\\udita\\\\Python'"
      ]
     },
     "execution_count": 5,
     "metadata": {},
     "output_type": "execute_result"
    }
   ],
   "source": [
    "pwd"
   ]
  },
  {
   "cell_type": "code",
   "execution_count": 1,
   "id": "1812dd06-dd6a-4953-974e-231669942a2a",
   "metadata": {},
   "outputs": [
    {
     "name": "stdout",
     "output_type": "stream",
     "text": [
      "the summationis -  900\n"
     ]
    },
    {
     "data": {
      "text/plain": [
       "890"
      ]
     },
     "execution_count": 1,
     "metadata": {},
     "output_type": "execute_result"
    }
   ],
   "source": [
    "z=10\n",
    "c=25\n",
    "v=890\n",
    "u=z+v\n",
    "print(\"the summationis - \",u)\n",
    "c\n",
    "v"
   ]
  },
  {
   "cell_type": "code",
   "execution_count": 5,
   "id": "39063efb-e4ba-4429-8b82-684626a831b2",
   "metadata": {},
   "outputs": [
    {
     "ename": "NameError",
     "evalue": "name '_1A' is not defined",
     "output_type": "error",
     "traceback": [
      "\u001b[1;31m---------------------------------------------------------------------------\u001b[0m",
      "\u001b[1;31mNameError\u001b[0m                                 Traceback (most recent call last)",
      "Cell \u001b[1;32mIn[5], line 1\u001b[0m\n\u001b[1;32m----> 1\u001b[0m \u001b[38;5;28mtype\u001b[39m(_1A)\n\u001b[0;32m      2\u001b[0m w\n",
      "\u001b[1;31mNameError\u001b[0m: name '_1A' is not defined"
     ]
    }
   ],
   "source": [
    "type(_1A)\n",
    "w"
   ]
  },
  {
   "cell_type": "code",
   "execution_count": 3,
   "id": "1231f276-4be0-4649-ba93-902a05595815",
   "metadata": {},
   "outputs": [
    {
     "ename": "NameError",
     "evalue": "name 'w' is not defined",
     "output_type": "error",
     "traceback": [
      "\u001b[1;31m---------------------------------------------------------------------------\u001b[0m",
      "\u001b[1;31mNameError\u001b[0m                                 Traceback (most recent call last)",
      "Cell \u001b[1;32mIn[3], line 1\u001b[0m\n\u001b[1;32m----> 1\u001b[0m \u001b[38;5;28mprint\u001b[39m(w)\n",
      "\u001b[1;31mNameError\u001b[0m: name 'w' is not defined"
     ]
    }
   ],
   "source": [
    "print(w)"
   ]
  },
  {
   "cell_type": "code",
   "execution_count": 2,
   "id": "b68de9ae-dd74-4fa0-836f-52a3ef9b937e",
   "metadata": {},
   "outputs": [
    {
     "name": "stdout",
     "output_type": "stream",
     "text": [
      "['False', 'None', 'True', 'and', 'as', 'assert', 'async', 'await', 'break', 'class', 'continue', 'def', 'del', 'elif', 'else', 'except', 'finally', 'for', 'from', 'global', 'if', 'import', 'in', 'is', 'lambda', 'nonlocal', 'not', 'or', 'pass', 'raise', 'return', 'try', 'while', 'with', 'yield']\n"
     ]
    }
   ],
   "source": [
    "import keyword\n",
    "keywords = keyword.kwlist\n",
    "print(keywords)"
   ]
  },
  {
   "cell_type": "code",
   "execution_count": 4,
   "id": "65ca8c96-c87e-4a53-a784-6ab5118be1d3",
   "metadata": {},
   "outputs": [
    {
     "data": {
      "text/plain": [
       "35"
      ]
     },
     "execution_count": 4,
     "metadata": {},
     "output_type": "execute_result"
    }
   ],
   "source": [
    "len(keywords) "
   ]
  },
  {
   "cell_type": "code",
   "execution_count": 6,
   "id": "f63bf0fd-6b46-40ea-a0a3-493a283e0b7e",
   "metadata": {},
   "outputs": [
    {
     "name": "stdin",
     "output_type": "stream",
     "text": [
      "Enter your college name :-  GIFT\n"
     ]
    },
    {
     "name": "stdout",
     "output_type": "stream",
     "text": [
      "your name :-  GIFT\n"
     ]
    }
   ],
   "source": [
    "a= input (\"Enter your college name :- \")\n",
    "print(\"your name :- \",a)"
   ]
  },
  {
   "cell_type": "code",
   "execution_count": 7,
   "id": "b38e183c-d65c-44a5-8550-72aa8858e47f",
   "metadata": {},
   "outputs": [
    {
     "name": "stdout",
     "output_type": "stream",
     "text": [
      "GIFT Is my college name ?\n"
     ]
    }
   ],
   "source": [
    "print (a,\"Is my college name ?\")"
   ]
  },
  {
   "cell_type": "code",
   "execution_count": 8,
   "id": "2fc63e2f-3a90-493c-b5a9-fa9976ec495d",
   "metadata": {},
   "outputs": [
    {
     "name": "stdin",
     "output_type": "stream",
     "text": [
      "Enter your college name :-  GIFT\n",
      "Enter your college id :-  233\n"
     ]
    }
   ],
   "source": [
    "a= input (\"Enter your college name :- \")\n",
    "b= input (\"Enter your college id :- \")\n"
   ]
  },
  {
   "cell_type": "code",
   "execution_count": 9,
   "id": "21cdd476-8df4-4d44-9937-53881bcea020",
   "metadata": {},
   "outputs": [
    {
     "name": "stdout",
     "output_type": "stream",
     "text": [
      "Your college name is  GIFT Your clg id is  233\n"
     ]
    }
   ],
   "source": [
    "print(\"Your college name is \",a, \"Your clg id is \", b )"
   ]
  },
  {
   "cell_type": "code",
   "execution_count": 27,
   "id": "f63ed7b8-81b2-497a-b5c6-cfd2ec7dd1a8",
   "metadata": {},
   "outputs": [
    {
     "ename": "SyntaxError",
     "evalue": "positional argument follows keyword argument (4015208218.py, line 1)",
     "output_type": "error",
     "traceback": [
      "\u001b[1;36m  Cell \u001b[1;32mIn[27], line 1\u001b[1;36m\u001b[0m\n\u001b[1;33m    print('The story of {}, {}, and {other}'.format(other='Bill','Manfred','Georg'))\u001b[0m\n\u001b[1;37m                                                                                  ^\u001b[0m\n\u001b[1;31mSyntaxError\u001b[0m\u001b[1;31m:\u001b[0m positional argument follows keyword argument\n"
     ]
    }
   ],
   "source": [
    "print('The story of {}, {}, and {other}'.format(other='Bill','Manfred','Georg'))"
   ]
  },
  {
   "cell_type": "code",
   "execution_count": 15,
   "id": "1ef1a12e-5475-4934-afcf-f5f3bbaa02a8",
   "metadata": {},
   "outputs": [
    {
     "name": "stdout",
     "output_type": "stream",
     "text": [
      "Your college name is GIFT Your clg id is 233 \n"
     ]
    }
   ],
   "source": [
    "# this is the dot format (.format()) wat to put your variables , and the first curly bracket will take the first value in format and second one will take the second one .\n",
    "print(\"Your college name is {} Your clg id is {} \".format(a,b) ) "
   ]
  },
  {
   "cell_type": "code",
   "execution_count": 30,
   "id": "d86dd99f-7b71-4a7f-bf16-f9387cd9e0d3",
   "metadata": {},
   "outputs": [
    {
     "ename": "SyntaxError",
     "evalue": "positional argument follows keyword argument (3773654946.py, line 1)",
     "output_type": "error",
     "traceback": [
      "\u001b[1;36m  Cell \u001b[1;32mIn[30], line 1\u001b[1;36m\u001b[0m\n\u001b[1;33m    print('The story of {other}, {}, and {}'.format(other='Bill','Manfred','Georg'))\u001b[0m\n\u001b[1;37m                                                                                  ^\u001b[0m\n\u001b[1;31mSyntaxError\u001b[0m\u001b[1;31m:\u001b[0m positional argument follows keyword argument\n"
     ]
    }
   ],
   "source": [
    "print('The story of {other}, {}, and {}'.format(other='Bill','Manfred','Georg'))"
   ]
  },
  {
   "cell_type": "code",
   "execution_count": 17,
   "id": "c3c26573-28d5-40ad-a246-bf7ae2a8de9d",
   "metadata": {},
   "outputs": [
    {
     "data": {
      "text/plain": [
       "67"
      ]
     },
     "execution_count": 17,
     "metadata": {},
     "output_type": "execute_result"
    }
   ],
   "source": [
    "_1a=67\n",
    "_1a"
   ]
  },
  {
   "cell_type": "code",
   "execution_count": 21,
   "id": "548f7292-7cf3-41af-bc0b-488205b815c4",
   "metadata": {},
   "outputs": [
    {
     "data": {
      "text/plain": [
       "int"
      ]
     },
     "execution_count": 21,
     "metadata": {},
     "output_type": "execute_result"
    }
   ],
   "source": [
    "w=type(_1a)\n",
    "w"
   ]
  },
  {
   "cell_type": "code",
   "execution_count": null,
   "id": "87dec0b2-8d93-4b2a-984c-b0cbaf610309",
   "metadata": {},
   "outputs": [],
   "source": []
  }
 ],
 "metadata": {
  "kernelspec": {
   "display_name": "Python 3 (ipykernel)",
   "language": "python",
   "name": "python3"
  },
  "language_info": {
   "codemirror_mode": {
    "name": "ipython",
    "version": 3
   },
   "file_extension": ".py",
   "mimetype": "text/x-python",
   "name": "python",
   "nbconvert_exporter": "python",
   "pygments_lexer": "ipython3",
   "version": "3.11.7"
  }
 },
 "nbformat": 4,
 "nbformat_minor": 5
}
