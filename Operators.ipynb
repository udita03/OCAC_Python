{
 "cells": [
  {
   "cell_type": "markdown",
   "id": "c55a29f8-866a-433c-96cd-9e1f9525aec3",
   "metadata": {},
   "source": [
    "### Operators"
   ]
  },
  {
   "cell_type": "markdown",
   "id": "af2c55b6-44f8-4499-9d00-dcce6aaae51a",
   "metadata": {},
   "source": [
    "#### 1. Arithmetic Operators "
   ]
  },
  {
   "cell_type": "markdown",
   "id": "4e636055-c774-4ee1-b605-2fff64eccf77",
   "metadata": {},
   "source": [
    "###### It is used toperform mathematical operations like addition, substraction, multiplication  etc."
   ]
  },
  {
   "cell_type": "code",
   "execution_count": 1,
   "id": "8cd46cb8-0849-46c9-80ec-1b7171d1e5bc",
   "metadata": {},
   "outputs": [
    {
     "data": {
      "text/plain": [
       "124"
      ]
     },
     "execution_count": 1,
     "metadata": {},
     "output_type": "execute_result"
    }
   ],
   "source": [
    "90+34   # Simple Addition"
   ]
  },
  {
   "cell_type": "code",
   "execution_count": 2,
   "id": "08c5ce45-9476-48cf-8de6-359fab5ca50a",
   "metadata": {},
   "outputs": [
    {
     "data": {
      "text/plain": [
       "33"
      ]
     },
     "execution_count": 2,
     "metadata": {},
     "output_type": "execute_result"
    }
   ],
   "source": [
    "67-34  # Simple Substraction"
   ]
  },
  {
   "cell_type": "code",
   "execution_count": 3,
   "id": "295ae247-142b-4aee-8f17-7c03029a81c5",
   "metadata": {},
   "outputs": [
    {
     "data": {
      "text/plain": [
       "40"
      ]
     },
     "execution_count": 3,
     "metadata": {},
     "output_type": "execute_result"
    }
   ],
   "source": [
    "5*8   # Simple Multiplication"
   ]
  },
  {
   "cell_type": "code",
   "execution_count": 5,
   "id": "6d637dd5-5a7b-4293-b331-b597ed1007cc",
   "metadata": {},
   "outputs": [
    {
     "data": {
      "text/plain": [
       "2.0"
      ]
     },
     "execution_count": 5,
     "metadata": {},
     "output_type": "execute_result"
    }
   ],
   "source": [
    "6/3  # Simple Division\n",
    "     # Division always output as float "
   ]
  },
  {
   "cell_type": "code",
   "execution_count": 6,
   "id": "a0cba946-e581-458c-92ce-8bdb1d670861",
   "metadata": {},
   "outputs": [
    {
     "data": {
      "text/plain": [
       "6084"
      ]
     },
     "execution_count": 6,
     "metadata": {},
     "output_type": "execute_result"
    }
   ],
   "source": [
    "78**2  # Power"
   ]
  },
  {
   "cell_type": "code",
   "execution_count": 7,
   "id": "4e2ee15a-9461-4165-8c0a-9bb32a74596a",
   "metadata": {},
   "outputs": [
    {
     "data": {
      "text/plain": [
       "5.0"
      ]
     },
     "execution_count": 7,
     "metadata": {},
     "output_type": "execute_result"
    }
   ],
   "source": [
    "10/2"
   ]
  },
  {
   "cell_type": "code",
   "execution_count": 10,
   "id": "e651ffac-1f37-45af-b9f5-51d296dfe7a8",
   "metadata": {},
   "outputs": [
    {
     "data": {
      "text/plain": [
       "3"
      ]
     },
     "execution_count": 10,
     "metadata": {},
     "output_type": "execute_result"
    }
   ],
   "source": [
    "10//3   # Floor division"
   ]
  },
  {
   "cell_type": "code",
   "execution_count": 9,
   "id": "5effc566-4462-4013-a6f9-3e1cbaa988cb",
   "metadata": {},
   "outputs": [
    {
     "data": {
      "text/plain": [
       "1"
      ]
     },
     "execution_count": 9,
     "metadata": {},
     "output_type": "execute_result"
    }
   ],
   "source": [
    "45%4  # simple Modulus"
   ]
  },
  {
   "cell_type": "code",
   "execution_count": 12,
   "id": "0e3291f5-9f68-47e9-8186-ab0fe4287479",
   "metadata": {},
   "outputs": [
    {
     "data": {
      "text/plain": [
       "120"
      ]
     },
     "execution_count": 12,
     "metadata": {},
     "output_type": "execute_result"
    }
   ],
   "source": [
    "(7+5) * (5+5)  # parantasis"
   ]
  },
  {
   "cell_type": "code",
   "execution_count": 13,
   "id": "531c59ca-352e-4724-8dab-cff9913ee001",
   "metadata": {},
   "outputs": [
    {
     "name": "stdout",
     "output_type": "stream",
     "text": [
      "50\n",
      "1.5\n",
      "600\n"
     ]
    }
   ],
   "source": [
    "x=30\n",
    "y=20\n",
    "print(x+y)\n",
    "print(x/y)\n",
    "print(x*y)"
   ]
  },
  {
   "cell_type": "markdown",
   "id": "795c02ba-a2b6-4e6a-8e25-8f4fca9843f5",
   "metadata": {},
   "source": [
    "### Arithimetic Operator"
   ]
  },
  {
   "cell_type": "code",
   "execution_count": 15,
   "id": "2efbae79-55ab-4e5e-9a61-d93f8b1a1582",
   "metadata": {},
   "outputs": [
    {
     "data": {
      "text/plain": [
       "10.666666666666668"
      ]
     },
     "execution_count": 15,
     "metadata": {},
     "output_type": "execute_result"
    }
   ],
   "source": [
    "x+y/x-y   #BODMAS rule "
   ]
  },
  {
   "cell_type": "code",
   "execution_count": 16,
   "id": "c09529f2-afc1-4c47-9486-20164e2e4a5d",
   "metadata": {},
   "outputs": [
    {
     "data": {
      "text/plain": [
       "30"
      ]
     },
     "execution_count": 16,
     "metadata": {},
     "output_type": "execute_result"
    }
   ],
   "source": [
    "(6*(9-4))"
   ]
  },
  {
   "cell_type": "code",
   "execution_count": 17,
   "id": "4baad38a-12d3-4636-9f6f-81ee21dd2ca4",
   "metadata": {},
   "outputs": [
    {
     "data": {
      "text/plain": [
       "90"
      ]
     },
     "execution_count": 17,
     "metadata": {},
     "output_type": "execute_result"
    }
   ],
   "source": [
    "9//34%4*3**23+90"
   ]
  },
  {
   "cell_type": "markdown",
   "id": "c3e20f49-8272-4d10-aed2-5a6332934f66",
   "metadata": {},
   "source": [
    "## Relational Operators"
   ]
  },
  {
   "cell_type": "markdown",
   "id": "3949182e-bba8-404a-8a54-acaa216de45b",
   "metadata": {},
   "source": [
    "#### it is also known as \"Comparison Operator\""
   ]
  },
  {
   "cell_type": "markdown",
   "id": "b854c5f6-de61-4034-a51f-3b377217695b",
   "metadata": {},
   "source": [
    "###### >,<,==,!=,>=,<= are Comparison Operator"
   ]
  },
  {
   "cell_type": "code",
   "execution_count": 1,
   "id": "3460d23d-f6e1-49f7-ab13-825608ec7ad7",
   "metadata": {},
   "outputs": [
    {
     "data": {
      "text/plain": [
       "True"
      ]
     },
     "execution_count": 1,
     "metadata": {},
     "output_type": "execute_result"
    }
   ],
   "source": [
    "# greater than \n",
    "45>23    \n",
    "# it shows output true or false"
   ]
  },
  {
   "cell_type": "code",
   "execution_count": 3,
   "id": "8ea6e5d3-9124-4c78-ae5d-c6a9cd3470f3",
   "metadata": {},
   "outputs": [
    {
     "data": {
      "text/plain": [
       "False"
      ]
     },
     "execution_count": 3,
     "metadata": {},
     "output_type": "execute_result"
    }
   ],
   "source": [
    "# less than\n",
    "78<54"
   ]
  },
  {
   "cell_type": "code",
   "execution_count": 4,
   "id": "aca3af15-3dcc-4239-916f-038e9edc9678",
   "metadata": {},
   "outputs": [
    {
     "data": {
      "text/plain": [
       "False"
      ]
     },
     "execution_count": 4,
     "metadata": {},
     "output_type": "execute_result"
    }
   ],
   "source": [
    "5+6 < 2*5"
   ]
  },
  {
   "cell_type": "code",
   "execution_count": 5,
   "id": "cfe85ec9-3e6f-4186-8a83-db39cce5dc2d",
   "metadata": {},
   "outputs": [
    {
     "data": {
      "text/plain": [
       "True"
      ]
     },
     "execution_count": 5,
     "metadata": {},
     "output_type": "execute_result"
    }
   ],
   "source": [
    "#equal to\n",
    "67 == 67"
   ]
  },
  {
   "cell_type": "code",
   "execution_count": 6,
   "id": "d406770d-e285-4366-8333-d72e1ac0386a",
   "metadata": {},
   "outputs": [
    {
     "data": {
      "text/plain": [
       "False"
      ]
     },
     "execution_count": 6,
     "metadata": {},
     "output_type": "execute_result"
    }
   ],
   "source": [
    "89 == 3"
   ]
  },
  {
   "cell_type": "code",
   "execution_count": 7,
   "id": "244e9c32-ea55-4659-86b0-0dcec8a78b58",
   "metadata": {},
   "outputs": [
    {
     "data": {
      "text/plain": [
       "True"
      ]
     },
     "execution_count": 7,
     "metadata": {},
     "output_type": "execute_result"
    }
   ],
   "source": [
    "# not equal to\n",
    "45!=90"
   ]
  },
  {
   "cell_type": "code",
   "execution_count": 8,
   "id": "21bf70b7-2821-4d0c-90e2-202f055bb718",
   "metadata": {},
   "outputs": [
    {
     "data": {
      "text/plain": [
       "False"
      ]
     },
     "execution_count": 8,
     "metadata": {},
     "output_type": "execute_result"
    }
   ],
   "source": [
    "45 != 45"
   ]
  },
  {
   "cell_type": "code",
   "execution_count": 9,
   "id": "1c7f0fcf-f2d1-4f32-821c-88ec008b3d91",
   "metadata": {},
   "outputs": [
    {
     "data": {
      "text/plain": [
       "True"
      ]
     },
     "execution_count": 9,
     "metadata": {},
     "output_type": "execute_result"
    }
   ],
   "source": [
    "# greater than or equal to\n",
    "45 >= 23 "
   ]
  },
  {
   "cell_type": "code",
   "execution_count": 11,
   "id": "a166aa25-a20d-4d5c-b997-912fc826aa3d",
   "metadata": {},
   "outputs": [
    {
     "data": {
      "text/plain": [
       "False"
      ]
     },
     "execution_count": 11,
     "metadata": {},
     "output_type": "execute_result"
    }
   ],
   "source": [
    "# less than or equal to\n",
    "45 <= 23 "
   ]
  },
  {
   "cell_type": "code",
   "execution_count": 12,
   "id": "2423ba5a-43d0-4422-a200-4295a2b87a8e",
   "metadata": {},
   "outputs": [
    {
     "data": {
      "text/plain": [
       "False"
      ]
     },
     "execution_count": 12,
     "metadata": {},
     "output_type": "execute_result"
    }
   ],
   "source": [
    "\"me\" == \"ME\""
   ]
  },
  {
   "cell_type": "markdown",
   "id": "93165e3b-2628-43c4-adf1-1edab5b0ee03",
   "metadata": {},
   "source": [
    "#### Bitwise Operator"
   ]
  },
  {
   "cell_type": "code",
   "execution_count": 13,
   "id": "343bf35b-08b2-4e5a-b588-5d9ec590aacb",
   "metadata": {},
   "outputs": [
    {
     "data": {
      "text/plain": [
       "'0b10101'"
      ]
     },
     "execution_count": 13,
     "metadata": {},
     "output_type": "execute_result"
    }
   ],
   "source": [
    "bin(21) #it convert into binary , and '0b' is code of the binary representation "
   ]
  },
  {
   "cell_type": "code",
   "execution_count": 14,
   "id": "b7ed1a78-b9ad-4dea-9c1c-ed66861c2fef",
   "metadata": {},
   "outputs": [
    {
     "data": {
      "text/plain": [
       "162"
      ]
     },
     "execution_count": 14,
     "metadata": {},
     "output_type": "execute_result"
    }
   ],
   "source": [
    "0b10100010"
   ]
  },
  {
   "cell_type": "code",
   "execution_count": 15,
   "id": "4a0d3e32-4f12-4f6e-be8a-17e1a3177001",
   "metadata": {},
   "outputs": [
    {
     "name": "stdout",
     "output_type": "stream",
     "text": [
      "1\n"
     ]
    }
   ],
   "source": [
    "#Bitwise And\n",
    "x=5\n",
    "y=9\n",
    "print(x&y)"
   ]
  },
  {
   "cell_type": "code",
   "execution_count": 16,
   "id": "bd6367b8-5ed2-4386-8a10-fbbc1c60de61",
   "metadata": {},
   "outputs": [
    {
     "name": "stdout",
     "output_type": "stream",
     "text": [
      "13\n"
     ]
    }
   ],
   "source": [
    "#Bitwise or\n",
    "x=5\n",
    "y=9\n",
    "print(x|y)"
   ]
  },
  {
   "cell_type": "code",
   "execution_count": 17,
   "id": "39e5272d-9c52-4a54-9a8c-b43f18a5dbf9",
   "metadata": {},
   "outputs": [
    {
     "data": {
      "text/plain": [
       "11"
      ]
     },
     "execution_count": 17,
     "metadata": {},
     "output_type": "execute_result"
    }
   ],
   "source": [
    "9|2"
   ]
  },
  {
   "cell_type": "code",
   "execution_count": 18,
   "id": "0c30bbf7-0dd5-4351-a3c8-a3db08df8e7b",
   "metadata": {},
   "outputs": [
    {
     "data": {
      "text/plain": [
       "4"
      ]
     },
     "execution_count": 18,
     "metadata": {},
     "output_type": "execute_result"
    }
   ],
   "source": [
    "4&6"
   ]
  },
  {
   "cell_type": "markdown",
   "id": "351a8f16-1c63-4987-8b3f-d8e6ca902cff",
   "metadata": {},
   "source": [
    "#### Logical Operator"
   ]
  },
  {
   "cell_type": "markdown",
   "id": "8fb1910e-272b-4e3e-946c-518c642a66d2",
   "metadata": {},
   "source": [
    "##### It includes 'And','Or'& 'Not'"
   ]
  },
  {
   "cell_type": "code",
   "execution_count": 19,
   "id": "020703ee-3aac-448c-ac4a-32731bedeca1",
   "metadata": {},
   "outputs": [
    {
     "data": {
      "text/plain": [
       "False"
      ]
     },
     "execution_count": 19,
     "metadata": {},
     "output_type": "execute_result"
    }
   ],
   "source": [
    "(1>3) and (4<7)"
   ]
  },
  {
   "cell_type": "code",
   "execution_count": 20,
   "id": "bb6529d0-9c6c-4a45-8f82-2489a9d8c726",
   "metadata": {},
   "outputs": [
    {
     "data": {
      "text/plain": [
       "True"
      ]
     },
     "execution_count": 20,
     "metadata": {},
     "output_type": "execute_result"
    }
   ],
   "source": [
    "(1>3) or (4<7)"
   ]
  },
  {
   "cell_type": "code",
   "execution_count": 22,
   "id": "34ec951b-9d38-4c54-9ce4-de6631329ca7",
   "metadata": {},
   "outputs": [
    {
     "data": {
      "text/plain": [
       "False"
      ]
     },
     "execution_count": 22,
     "metadata": {},
     "output_type": "execute_result"
    }
   ],
   "source": [
    "not True"
   ]
  },
  {
   "cell_type": "code",
   "execution_count": 23,
   "id": "1f859672-10a5-41f0-b417-0590c61c0234",
   "metadata": {},
   "outputs": [
    {
     "data": {
      "text/plain": [
       "True"
      ]
     },
     "execution_count": 23,
     "metadata": {},
     "output_type": "execute_result"
    }
   ],
   "source": [
    "not False"
   ]
  },
  {
   "cell_type": "code",
   "execution_count": 24,
   "id": "39137a77-c0d2-4fcd-beb5-4edabf9af891",
   "metadata": {},
   "outputs": [
    {
     "data": {
      "text/plain": [
       "True"
      ]
     },
     "execution_count": 24,
     "metadata": {},
     "output_type": "execute_result"
    }
   ],
   "source": [
    "u= 'udi'\n",
    "u.isalpha() or u.isnum()"
   ]
  },
  {
   "cell_type": "markdown",
   "id": "a6fbec6d-a434-4c77-a593-c16681710769",
   "metadata": {},
   "source": [
    "### assignment Operator"
   ]
  },
  {
   "cell_type": "markdown",
   "id": "4ebdbdff-2a2a-4f2a-90a7-c21b2fda1b7f",
   "metadata": {},
   "source": [
    "###### (=,+=,-=,*=,/=,%=,**=,&=,|=,^=,<<=,>>=) These are the operators"
   ]
  },
  {
   "cell_type": "code",
   "execution_count": 25,
   "id": "56afc947-5842-486c-afe5-20d281950797",
   "metadata": {},
   "outputs": [
    {
     "data": {
      "text/plain": [
       "90"
      ]
     },
     "execution_count": 25,
     "metadata": {},
     "output_type": "execute_result"
    }
   ],
   "source": [
    "a=90 #it simply assigne the value of right side to the variable of left side\n",
    "a"
   ]
  },
  {
   "cell_type": "code",
   "execution_count": 26,
   "id": "d3ba27a7-6029-4c43-82f0-4e719bcafd39",
   "metadata": {},
   "outputs": [
    {
     "data": {
      "text/plain": [
       "91"
      ]
     },
     "execution_count": 26,
     "metadata": {},
     "output_type": "execute_result"
    }
   ],
   "source": [
    "a=a+1\n",
    "a"
   ]
  },
  {
   "cell_type": "code",
   "execution_count": 27,
   "id": "0037bbef-8be7-4533-9ba0-bd1acb61a0ca",
   "metadata": {},
   "outputs": [
    {
     "data": {
      "text/plain": [
       "92"
      ]
     },
     "execution_count": 27,
     "metadata": {},
     "output_type": "execute_result"
    }
   ],
   "source": [
    "a+= 1\n",
    "a"
   ]
  },
  {
   "cell_type": "code",
   "execution_count": 28,
   "id": "c7cf0c6b-ab05-4da8-bf44-d77bade3d52c",
   "metadata": {},
   "outputs": [],
   "source": [
    "# like the above you can do all the operations"
   ]
  },
  {
   "cell_type": "markdown",
   "id": "963b6888-fb6f-436c-abe5-b6c919ffa8e4",
   "metadata": {},
   "source": [
    "### Identity Operator"
   ]
  },
  {
   "cell_type": "code",
   "execution_count": null,
   "id": "89e152da-ac0e-47fb-ae9f-fa3e108665d3",
   "metadata": {},
   "outputs": [],
   "source": [
    "# 'is' and 'is not' are the Identity Operator"
   ]
  },
  {
   "cell_type": "code",
   "execution_count": 29,
   "id": "19f11a48-4de7-4465-abca-cf8fe58100bf",
   "metadata": {},
   "outputs": [
    {
     "name": "stdout",
     "output_type": "stream",
     "text": [
      "True\n"
     ]
    }
   ],
   "source": [
    "a=7\n",
    "b=7\n",
    "print(a is b)"
   ]
  },
  {
   "cell_type": "code",
   "execution_count": 30,
   "id": "169cbaa6-8d3f-4bf5-8c08-de5312560cc8",
   "metadata": {},
   "outputs": [
    {
     "name": "stdout",
     "output_type": "stream",
     "text": [
      "False\n"
     ]
    }
   ],
   "source": [
    "x='me'\n",
    "y='Me'\n",
    "print(x is y)"
   ]
  },
  {
   "cell_type": "code",
   "execution_count": 31,
   "id": "12005c0b-49d1-4085-b2ed-f4822600a4d0",
   "metadata": {},
   "outputs": [
    {
     "name": "stdout",
     "output_type": "stream",
     "text": [
      "True\n"
     ]
    }
   ],
   "source": [
    "x='me'\n",
    "y='Me'\n",
    "print(x is not y)"
   ]
  },
  {
   "cell_type": "markdown",
   "id": "14eb2643-0df7-4095-a36d-a68d8ddbf56b",
   "metadata": {},
   "source": [
    "### Membership operator"
   ]
  },
  {
   "cell_type": "code",
   "execution_count": null,
   "id": "50cdfba9-a0d9-43fc-a23b-404dd5ebd01f",
   "metadata": {},
   "outputs": [],
   "source": [
    "# 'in' and 'not in' are the Membership operator"
   ]
  },
  {
   "cell_type": "code",
   "execution_count": 32,
   "id": "75b2179b-4067-4754-ad5e-ff21ef5595f2",
   "metadata": {},
   "outputs": [
    {
     "data": {
      "text/plain": [
       "True"
      ]
     },
     "execution_count": 32,
     "metadata": {},
     "output_type": "execute_result"
    }
   ],
   "source": [
    "r='yxdcfgvbhpnjsdxcfgv'\n",
    "'bhpn' in r         # it check the given element is present or not"
   ]
  },
  {
   "cell_type": "code",
   "execution_count": 33,
   "id": "ec061b57-0693-4db2-a14c-92e51effce40",
   "metadata": {},
   "outputs": [
    {
     "data": {
      "text/plain": [
       "False"
      ]
     },
     "execution_count": 33,
     "metadata": {},
     "output_type": "execute_result"
    }
   ],
   "source": [
    "'dfgv' in r"
   ]
  },
  {
   "cell_type": "code",
   "execution_count": 34,
   "id": "32cff067-fe4d-4055-9196-350b95a6e59d",
   "metadata": {},
   "outputs": [
    {
     "data": {
      "text/plain": [
       "True"
      ]
     },
     "execution_count": 34,
     "metadata": {},
     "output_type": "execute_result"
    }
   ],
   "source": [
    "'dfgv' not in r"
   ]
  },
  {
   "cell_type": "code",
   "execution_count": null,
   "id": "aee3fbd2-9ced-46c1-afad-f8d84e2b1ea4",
   "metadata": {},
   "outputs": [],
   "source": []
  },
  {
   "cell_type": "code",
   "execution_count": null,
   "id": "e876fa9f-8083-48c5-af3e-88dbb0dc43da",
   "metadata": {},
   "outputs": [],
   "source": []
  },
  {
   "cell_type": "code",
   "execution_count": null,
   "id": "bbeb20c7-1ddd-4b53-b35e-22977bb54d60",
   "metadata": {},
   "outputs": [],
   "source": []
  }
 ],
 "metadata": {
  "kernelspec": {
   "display_name": "Python 3 (ipykernel)",
   "language": "python",
   "name": "python3"
  },
  "language_info": {
   "codemirror_mode": {
    "name": "ipython",
    "version": 3
   },
   "file_extension": ".py",
   "mimetype": "text/x-python",
   "name": "python",
   "nbconvert_exporter": "python",
   "pygments_lexer": "ipython3",
   "version": "3.11.7"
  }
 },
 "nbformat": 4,
 "nbformat_minor": 5
}
