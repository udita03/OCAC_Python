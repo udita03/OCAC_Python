{
 "cells": [
  {
   "cell_type": "markdown",
   "id": "bec8dbf3-741d-4f7f-b634-76ee683d5ac9",
   "metadata": {},
   "source": [
    "# Different way of Printing Output"
   ]
  },
  {
   "cell_type": "code",
   "execution_count": 1,
   "id": "6ddf6b05-20f2-494e-beea-fc7d7a8de4eb",
   "metadata": {},
   "outputs": [
    {
     "name": "stdout",
     "output_type": "stream",
     "text": [
      "48\n"
     ]
    }
   ],
   "source": [
    "print(48)"
   ]
  },
  {
   "cell_type": "code",
   "execution_count": 3,
   "id": "22bcd2f6-5fb3-4d45-866a-de0c01ca76df",
   "metadata": {},
   "outputs": [
    {
     "name": "stdout",
     "output_type": "stream",
     "text": [
      "Udita\n"
     ]
    }
   ],
   "source": [
    "print (\"Udita\")"
   ]
  },
  {
   "cell_type": "code",
   "execution_count": 6,
   "id": "a7422791-0bbd-4b85-8bf6-d494873609b4",
   "metadata": {},
   "outputs": [
    {
     "ename": "SyntaxError",
     "evalue": "invalid syntax. Perhaps you forgot a comma? (2034692683.py, line 1)",
     "output_type": "error",
     "traceback": [
      "\u001b[1;36m  Cell \u001b[1;32mIn[6], line 1\u001b[1;36m\u001b[0m\n\u001b[1;33m    print (qwertyj      dxfcgvuh)\u001b[0m\n\u001b[1;37m           ^\u001b[0m\n\u001b[1;31mSyntaxError\u001b[0m\u001b[1;31m:\u001b[0m invalid syntax. Perhaps you forgot a comma?\n"
     ]
    }
   ],
   "source": [
    "print (qwertyj      dxfcgvuh) "
   ]
  },
  {
   "cell_type": "code",
   "execution_count": 8,
   "id": "a812f2b0-991c-4f08-b447-2449dc0e044b",
   "metadata": {},
   "outputs": [
    {
     "name": "stdout",
     "output_type": "stream",
     "text": [
      "34\n"
     ]
    }
   ],
   "source": [
    "a=34\n",
    "print(a)"
   ]
  },
  {
   "cell_type": "code",
   "execution_count": 10,
   "id": "2451971a-c485-4fa6-89cc-af935b0e0058",
   "metadata": {},
   "outputs": [
    {
     "name": "stdout",
     "output_type": "stream",
     "text": [
      "89\n"
     ]
    }
   ],
   "source": [
    "soni=89\n",
    "print(soni) #here \"soni\" is a variable"
   ]
  },
  {
   "cell_type": "code",
   "execution_count": 11,
   "id": "78d71acf-19ba-42ba-b200-c7ab1ad7c162",
   "metadata": {},
   "outputs": [
    {
     "name": "stdout",
     "output_type": "stream",
     "text": [
      "89 45 34\n"
     ]
    }
   ],
   "source": [
    "f=89\n",
    "w=45\n",
    "o=34\n",
    "print(f,w,o)"
   ]
  },
  {
   "cell_type": "code",
   "execution_count": 12,
   "id": "6187ff2d-c8cc-45d7-806a-e920c7078b85",
   "metadata": {},
   "outputs": [
    {
     "name": "stdout",
     "output_type": "stream",
     "text": [
      "9\n"
     ]
    },
    {
     "data": {
      "text/plain": [
       "int"
      ]
     },
     "execution_count": 12,
     "metadata": {},
     "output_type": "execute_result"
    }
   ],
   "source": [
    "u=9\n",
    "print(u)\n",
    "type(u)"
   ]
  },
  {
   "cell_type": "code",
   "execution_count": 13,
   "id": "57b48139-e5ef-4e07-ad8c-35d6c1dd1360",
   "metadata": {},
   "outputs": [
    {
     "name": "stdout",
     "output_type": "stream",
     "text": [
      "5\n"
     ]
    },
    {
     "data": {
      "text/plain": [
       "str"
      ]
     },
     "execution_count": 13,
     "metadata": {},
     "output_type": "execute_result"
    }
   ],
   "source": [
    "x='5' #5 is in the single quotation so it consider as string\n",
    "print(x)\n",
    "type(x)"
   ]
  },
  {
   "cell_type": "code",
   "execution_count": 1,
   "id": "982acfc7-a078-4915-aae0-e789a21e9888",
   "metadata": {},
   "outputs": [
    {
     "name": "stdout",
     "output_type": "stream",
     "text": [
      "7 3 3\n"
     ]
    }
   ],
   "source": [
    "x=7\n",
    "y=3\n",
    "z=3\n",
    "print(x,y,z)"
   ]
  },
  {
   "cell_type": "code",
   "execution_count": 4,
   "id": "17e84c51-1e14-44ef-8f55-623b449ca9bb",
   "metadata": {},
   "outputs": [
    {
     "name": "stdout",
     "output_type": "stream",
     "text": [
      "7:3:6\n"
     ]
    }
   ],
   "source": [
    "x=7\n",
    "y=3\n",
    "z=6\n",
    "print(x,y,z,sep=\":\")    # it will show output and separate them with \":\"."
   ]
  },
  {
   "cell_type": "code",
   "execution_count": 7,
   "id": "fb14ea3e-ab0e-42a5-93d0-2ee6ee233ea0",
   "metadata": {},
   "outputs": [
    {
     "name": "stdout",
     "output_type": "stream",
     "text": [
      "This will show you the value of f : 67\n"
     ]
    }
   ],
   "source": [
    "f=67\n",
    "print(\"This will show you the value of f :\",f)"
   ]
  },
  {
   "cell_type": "markdown",
   "id": "8f5b6d2a-74bc-4c0f-b493-5ac13503c1aa",
   "metadata": {},
   "source": [
    "First_name=\"Udita\"\n",
    "Last_name=\"Sonu\""
   ]
  },
  {
   "cell_type": "code",
   "execution_count": 10,
   "id": "a2b80f9b-ab97-4e62-8396-2110a431c318",
   "metadata": {},
   "outputs": [
    {
     "name": "stdout",
     "output_type": "stream",
     "text": [
      "Sonu Udita\n"
     ]
    }
   ],
   "source": [
    "print(Last_name,First_name)"
   ]
  },
  {
   "cell_type": "code",
   "execution_count": 11,
   "id": "85d825a7-c795-4085-ac34-8a9a16a571dd",
   "metadata": {},
   "outputs": [
    {
     "name": "stdout",
     "output_type": "stream",
     "text": [
      "Name:- Udita Sonu\n"
     ]
    }
   ],
   "source": [
    "print(\"Name:-\",First_name,Last_name)"
   ]
  },
  {
   "cell_type": "code",
   "execution_count": 13,
   "id": "a0898a4e-ee73-4ecd-a4ce-e336c368d63f",
   "metadata": {},
   "outputs": [
    {
     "name": "stdout",
     "output_type": "stream",
     "text": [
      "My good name is : Udita and my nick name is : Sonu\n"
     ]
    }
   ],
   "source": [
    "print(\"My good name is :\",First_name,\"and my nick name is :\",Last_name)"
   ]
  },
  {
   "cell_type": "code",
   "execution_count": 15,
   "id": "d90040e8-ccbe-4799-8870-224dd1a5624b",
   "metadata": {},
   "outputs": [
    {
     "name": "stdout",
     "output_type": "stream",
     "text": [
      "My good name is : Udita and my nick name is :Sonu\n"
     ]
    }
   ],
   "source": [
    "print(\"My good name is : {} and my nick name is :{}\" .format(First_name,Last_name))  \n",
    "# This is the dot-format "
   ]
  },
  {
   "cell_type": "code",
   "execution_count": 17,
   "id": "69a4ef91-7ae2-4bd5-8fc4-5c8f1751d407",
   "metadata": {},
   "outputs": [
    {
     "name": "stdout",
     "output_type": "stream",
     "text": [
      "My good name is : Sonu and my nick name is :Udita\n"
     ]
    }
   ],
   "source": [
    "print(\"My good name is : {first} and my nick name is :{last}\" .format(last=First_name,first=Last_name))  \n",
    "#if you change the postition then it wil change the output accordingly."
   ]
  },
  {
   "cell_type": "code",
   "execution_count": 22,
   "id": "2833a2c5-03a2-4e19-95a2-9a8803e8690e",
   "metadata": {},
   "outputs": [
    {
     "name": "stdout",
     "output_type": "stream",
     "text": [
      "Hii Udita Good Morning Have a nice day Udita\n"
     ]
    }
   ],
   "source": [
    "print(\"Hii {Name} {Greeting} {Greetings} {Name}\".format(Name=\"Udita\",Greeting=\"Good Morning\",Greetings=\"Have a nice day\"))"
   ]
  },
  {
   "cell_type": "code",
   "execution_count": 23,
   "id": "8709c44c-a535-4547-b740-b9943a116502",
   "metadata": {},
   "outputs": [
    {
     "ename": "SyntaxError",
     "evalue": "unmatched ')' (737036119.py, line 1)",
     "output_type": "error",
     "traceback": [
      "\u001b[1;36m  Cell \u001b[1;32mIn[23], line 1\u001b[1;36m\u001b[0m\n\u001b[1;33m    print(\"Hii {Name} {Greeting} {Name}\".format(Name=\"Udita\",Greeting=\"Good Morning\",Name=\"sonu\")))\u001b[0m\n\u001b[1;37m                                                                                                  ^\u001b[0m\n\u001b[1;31mSyntaxError\u001b[0m\u001b[1;31m:\u001b[0m unmatched ')'\n"
     ]
    }
   ],
   "source": [
    "print(\"Hii {Name} {Greeting} {Name}\".format(Name=\"Udita\",Greeting=\"Good Morning\",Name=\"sonu\")))\n",
    "#if there is same position name and you provide different values ,it will show you error\n"
   ]
  },
  {
   "cell_type": "markdown",
   "id": "3ca3b175-e391-43e9-b2a4-48b58eb7d81a",
   "metadata": {},
   "source": [
    "## Different way of taking input"
   ]
  },
  {
   "cell_type": "code",
   "execution_count": 26,
   "id": "632a62f3-e358-4167-8f0a-80f01cd4a82d",
   "metadata": {},
   "outputs": [
    {
     "name": "stdin",
     "output_type": "stream",
     "text": [
      "Enter the value of a:  20\n",
      "Enter the value of b:  5\n"
     ]
    },
    {
     "name": "stdout",
     "output_type": "stream",
     "text": [
      "ADD: 25\n"
     ]
    }
   ],
   "source": [
    "#small calculation\n",
    "a=int(input(\"Enter the value of a: \"))\n",
    "b=int(input(\"Enter the value of b: \"))\n",
    "add=a+b\n",
    "sub=a-b\n",
    "mul=a*b\n",
    "div=a/b\n",
    "mod=a%b\n",
    "print(\"ADD:\",add)"
   ]
  },
  {
   "cell_type": "code",
   "execution_count": 27,
   "id": "57b85b86-2bbf-458c-aec2-4e12aa3b4a72",
   "metadata": {},
   "outputs": [
    {
     "ename": "IndexError",
     "evalue": "Replacement index 5 out of range for positional args tuple",
     "output_type": "error",
     "traceback": [
      "\u001b[1;31m---------------------------------------------------------------------------\u001b[0m",
      "\u001b[1;31mIndexError\u001b[0m                                Traceback (most recent call last)",
      "Cell \u001b[1;32mIn[27], line 1\u001b[0m\n\u001b[1;32m----> 1\u001b[0m \u001b[38;5;28mprint\u001b[39m(\u001b[38;5;124m\"\u001b[39m\u001b[38;5;124msum=\u001b[39m\u001b[38;5;132;01m{1}\u001b[39;00m\u001b[38;5;124m,Diff\u001b[39m\u001b[38;5;132;01m{2}\u001b[39;00m\u001b[38;5;124m,Multi=\u001b[39m\u001b[38;5;132;01m{3}\u001b[39;00m\u001b[38;5;124m,Divi=\u001b[39m\u001b[38;5;132;01m{4}\u001b[39;00m\u001b[38;5;124m,Modu=\u001b[39m\u001b[38;5;132;01m{5}\u001b[39;00m\u001b[38;5;124m\"\u001b[39m\u001b[38;5;241m.\u001b[39mformat(add,sub,mul,div,mod))\n",
      "\u001b[1;31mIndexError\u001b[0m: Replacement index 5 out of range for positional args tuple"
     ]
    }
   ],
   "source": [
    "print(\"sum={1} , Diff{2} , Multi={3},Divi={4},Modu={5}\".format(add,sub,mul,div,mod))\n",
    "#show error because index position starts with \"0\""
   ]
  },
  {
   "cell_type": "code",
   "execution_count": 30,
   "id": "081f24b0-6654-4792-ae43-1451fff8f0ff",
   "metadata": {},
   "outputs": [
    {
     "name": "stdout",
     "output_type": "stream",
     "text": [
      "sum=25 , Diff=15 , Multi=100 , Divi=4.0 , Modu=0\n"
     ]
    }
   ],
   "source": [
    "print(\"sum={0} , Diff={1} , Multi={2} , Divi={3} , Modu={4}\".format(add,sub,mul,div,mod))  "
   ]
  },
  {
   "cell_type": "code",
   "execution_count": 34,
   "id": "2873f593-8382-4104-9661-9c666dbedcf7",
   "metadata": {},
   "outputs": [
    {
     "name": "stdout",
     "output_type": "stream",
     "text": [
      "Sum  | Diff | Mul  | div \n",
      "25   | 15   | 100  | 4.0 \n"
     ]
    }
   ],
   "source": [
    "#useing conditions\n",
    "print('{0:<4} | {1:<4} | {2:<4} | {3:<4}'.format('Sum', 'Diff', 'Mul', 'div'))\n",
    "print('{0:<4} | {1:<4} | {2:<4} | {3:<4}'.format(add, sub, mul, div))\n",
    "#you can put conditinds Here ue puts the contions in the index value"
   ]
  },
  {
   "cell_type": "code",
   "execution_count": 41,
   "id": "932f3b0a-055b-4d9c-9b0e-6f0b2db8684b",
   "metadata": {},
   "outputs": [
    {
     "name": "stdout",
     "output_type": "stream",
     "text": [
      "welcome students to Python class.!\n"
     ]
    }
   ],
   "source": [
    "#Formatting the string literals\n",
    "A= \"Python class.\"\n",
    "print (f\"welcome students to {A}!\")"
   ]
  },
  {
   "cell_type": "code",
   "execution_count": 45,
   "id": "75f7c6b6-ecc1-42a2-b153-eb50fbe9c062",
   "metadata": {},
   "outputs": [
    {
     "name": "stdin",
     "output_type": "stream",
     "text": [
      "Enter the college name :- GIFT\n",
      "Enter the number of students :- 5600\n"
     ]
    },
    {
     "name": "stdout",
     "output_type": "stream",
     "text": [
      "The name of the clg and the number of students: GIFT 5600\n"
     ]
    }
   ],
   "source": [
    "D= input(\"Enter the college name :-\") #it is ok to not define the data type\n",
    "C= input(\"Enter the number of students :-\")\n",
    "print(\"The name of the clg and the number of students:\",D,C)"
   ]
  },
  {
   "cell_type": "code",
   "execution_count": 46,
   "id": "1dfc1eb9-1132-4e7e-bf2b-32f98f6dfa75",
   "metadata": {},
   "outputs": [
    {
     "name": "stdout",
     "output_type": "stream",
     "text": [
      "The name of the clg is:- GIFT and the number of students are: 5600\n"
     ]
    }
   ],
   "source": [
    "print(\"The name of the clg is:-\",D,\"and the number of students are:\",C)"
   ]
  },
  {
   "cell_type": "code",
   "execution_count": 47,
   "id": "0ebd12d0-cb3d-42b2-8fda-ebdbb7571853",
   "metadata": {},
   "outputs": [
    {
     "name": "stdout",
     "output_type": "stream",
     "text": [
      "The name of the clg GIFT and the number of students are5600:\n"
     ]
    }
   ],
   "source": [
    "print(\"The name of the clg {} and the number of students are{}:\".format(D,C))"
   ]
  },
  {
   "cell_type": "code",
   "execution_count": 48,
   "id": "3dd95063-cd3b-4d50-9c56-26316211539b",
   "metadata": {},
   "outputs": [
    {
     "name": "stdout",
     "output_type": "stream",
     "text": [
      "The name of the clg GIFT and the number of students 5600:\n"
     ]
    }
   ],
   "source": [
    "print(\"The name of the clg {ab} and the number of students {cd}:\".format(ab=D,cd=C))"
   ]
  },
  {
   "cell_type": "code",
   "execution_count": 50,
   "id": "3bbf577e-4605-492a-8b2b-15197e314236",
   "metadata": {},
   "outputs": [
    {
     "data": {
      "text/plain": [
       "str"
      ]
     },
     "execution_count": 50,
     "metadata": {},
     "output_type": "execute_result"
    }
   ],
   "source": [
    "type(D)"
   ]
  },
  {
   "cell_type": "code",
   "execution_count": 51,
   "id": "474ab360-a25c-4e5b-9d01-9241354d4a48",
   "metadata": {},
   "outputs": [
    {
     "data": {
      "text/plain": [
       "str"
      ]
     },
     "execution_count": 51,
     "metadata": {},
     "output_type": "execute_result"
    }
   ],
   "source": [
    "type(C) #if the data type is not defined it's default value is 'str'"
   ]
  },
  {
   "cell_type": "code",
   "execution_count": 52,
   "id": "5ba88ce1-4544-4bfa-a749-f683501296f9",
   "metadata": {},
   "outputs": [
    {
     "name": "stdin",
     "output_type": "stream",
     "text": [
      " 45\n"
     ]
    }
   ],
   "source": [
    "n=int(input())"
   ]
  },
  {
   "cell_type": "code",
   "execution_count": 53,
   "id": "54aaedf5-5926-44a7-a0b8-19ed7cfd6a4a",
   "metadata": {},
   "outputs": [
    {
     "data": {
      "text/plain": [
       "int"
      ]
     },
     "execution_count": 53,
     "metadata": {},
     "output_type": "execute_result"
    }
   ],
   "source": [
    "type(n)"
   ]
  },
  {
   "cell_type": "code",
   "execution_count": 54,
   "id": "6a6554b9-2608-42d7-b67a-57d72ed7c1b7",
   "metadata": {},
   "outputs": [
    {
     "name": "stdin",
     "output_type": "stream",
     "text": [
      " 89\n"
     ]
    }
   ],
   "source": [
    "r=input()"
   ]
  },
  {
   "cell_type": "code",
   "execution_count": 55,
   "id": "8accfb8d-b806-48e3-b7dd-ca1ced92dd2f",
   "metadata": {},
   "outputs": [
    {
     "data": {
      "text/plain": [
       "str"
      ]
     },
     "execution_count": 55,
     "metadata": {},
     "output_type": "execute_result"
    }
   ],
   "source": [
    "type(r) #data type is not defined "
   ]
  },
  {
   "cell_type": "code",
   "execution_count": 56,
   "id": "d9ca6dfe-c2ee-40a4-ac40-7d0bf804968e",
   "metadata": {},
   "outputs": [
    {
     "name": "stdin",
     "output_type": "stream",
     "text": [
      " 34.78\n"
     ]
    }
   ],
   "source": [
    "g=input()"
   ]
  },
  {
   "cell_type": "code",
   "execution_count": 57,
   "id": "4b07c576-085b-4104-9678-82ebc2f5e11c",
   "metadata": {},
   "outputs": [
    {
     "data": {
      "text/plain": [
       "str"
      ]
     },
     "execution_count": 57,
     "metadata": {},
     "output_type": "execute_result"
    }
   ],
   "source": [
    "type(g)"
   ]
  },
  {
   "cell_type": "code",
   "execution_count": 61,
   "id": "cafa4dda-6f37-4099-b974-8ec633a30cd1",
   "metadata": {},
   "outputs": [
    {
     "name": "stdin",
     "output_type": "stream",
     "text": [
      "Age:- 56.5\n"
     ]
    },
    {
     "data": {
      "text/plain": [
       "'56.5'"
      ]
     },
     "execution_count": 61,
     "metadata": {},
     "output_type": "execute_result"
    }
   ],
   "source": [
    "h=input(\"Age:-\")\n",
    "h"
   ]
  },
  {
   "cell_type": "code",
   "execution_count": 62,
   "id": "30901724-0708-417c-bea5-da0e9c5b27c3",
   "metadata": {},
   "outputs": [
    {
     "data": {
      "text/plain": [
       "str"
      ]
     },
     "execution_count": 62,
     "metadata": {},
     "output_type": "execute_result"
    }
   ],
   "source": [
    "type(h)"
   ]
  },
  {
   "cell_type": "code",
   "execution_count": 67,
   "id": "064437d8-e8e5-4a2e-92cb-2ac346d5092c",
   "metadata": {},
   "outputs": [
    {
     "name": "stdin",
     "output_type": "stream",
     "text": [
      "Age:- 67.00\n"
     ]
    },
    {
     "data": {
      "text/plain": [
       "67.0"
      ]
     },
     "execution_count": 67,
     "metadata": {},
     "output_type": "execute_result"
    }
   ],
   "source": [
    "h= float(input(\"Age:-\"))\n",
    "h"
   ]
  },
  {
   "cell_type": "code",
   "execution_count": 70,
   "id": "f2a8626a-9ecb-46b1-941e-aba88e1ed120",
   "metadata": {},
   "outputs": [
    {
     "name": "stdin",
     "output_type": "stream",
     "text": [
      "Your name ? udita\n"
     ]
    },
    {
     "name": "stdout",
     "output_type": "stream",
     "text": [
      "have a good day udita\n"
     ]
    }
   ],
   "source": [
    "Name= str(input(\"Your name ?\"))\n",
    "print(\"have a good day \" + Name)"
   ]
  },
  {
   "cell_type": "code",
   "execution_count": 72,
   "id": "e9f58f89-4d6c-4742-9b91-1a0f4c73fe03",
   "metadata": {},
   "outputs": [
    {
     "name": "stdin",
     "output_type": "stream",
     "text": [
      "Your name ? udita\n"
     ]
    },
    {
     "ename": "ValueError",
     "evalue": "invalid literal for int() with base 10: 'udita'",
     "output_type": "error",
     "traceback": [
      "\u001b[1;31m---------------------------------------------------------------------------\u001b[0m",
      "\u001b[1;31mValueError\u001b[0m                                Traceback (most recent call last)",
      "Cell \u001b[1;32mIn[72], line 1\u001b[0m\n\u001b[1;32m----> 1\u001b[0m Name\u001b[38;5;241m=\u001b[39m \u001b[38;5;28mint\u001b[39m(\u001b[38;5;28minput\u001b[39m(\u001b[38;5;124m\"\u001b[39m\u001b[38;5;124mYour name ?\u001b[39m\u001b[38;5;124m\"\u001b[39m))\n\u001b[0;32m      2\u001b[0m \u001b[38;5;28mprint\u001b[39m(\u001b[38;5;124m\"\u001b[39m\u001b[38;5;124mhave a good day \u001b[39m\u001b[38;5;124m\"\u001b[39m \u001b[38;5;241m+\u001b[39m Name)\n",
      "\u001b[1;31mValueError\u001b[0m: invalid literal for int() with base 10: 'udita'"
     ]
    }
   ],
   "source": [
    "Name= int(input(\"Your name ?\")) # your data type is int and if you enter the string value then it will show you error\n",
    "print(\"have a good day \" + Name)"
   ]
  },
  {
   "cell_type": "code",
   "execution_count": 81,
   "id": "ae1b3a35-d83c-43b3-87d4-2f352f2d376f",
   "metadata": {
    "scrolled": true
   },
   "outputs": [
    {
     "name": "stdin",
     "output_type": "stream",
     "text": [
      "Enter number:- 56\n"
     ]
    },
    {
     "name": "stdout",
     "output_type": "stream",
     "text": [
      "5\n",
      "6\n"
     ]
    }
   ],
   "source": [
    "#multiple inputs in a single entry\n",
    "x , y =input(\"Enter number:-\")\n",
    "print(x)\n",
    "print(y)"
   ]
  },
  {
   "cell_type": "code",
   "execution_count": 83,
   "id": "6d98e442-d8d5-4c08-8777-51bd085701de",
   "metadata": {},
   "outputs": [
    {
     "name": "stdin",
     "output_type": "stream",
     "text": [
      "Enter number:- 90 89\n"
     ]
    },
    {
     "name": "stdout",
     "output_type": "stream",
     "text": [
      "90\n",
      "89\n"
     ]
    }
   ],
   "source": [
    "x , y =input(\"Enter number:-\").split(\" \") #it helps you to split the value while entering \n",
    "print(x)\n",
    "print(y)"
   ]
  },
  {
   "cell_type": "code",
   "execution_count": null,
   "id": "061be830-55b6-48ed-941d-322a9e1f7d9e",
   "metadata": {},
   "outputs": [],
   "source": []
  }
 ],
 "metadata": {
  "kernelspec": {
   "display_name": "Python 3 (ipykernel)",
   "language": "python",
   "name": "python3"
  },
  "language_info": {
   "codemirror_mode": {
    "name": "ipython",
    "version": 3
   },
   "file_extension": ".py",
   "mimetype": "text/x-python",
   "name": "python",
   "nbconvert_exporter": "python",
   "pygments_lexer": "ipython3",
   "version": "3.11.7"
  }
 },
 "nbformat": 4,
 "nbformat_minor": 5
}
