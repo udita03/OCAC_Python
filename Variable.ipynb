{
 "cells": [
  {
   "cell_type": "code",
   "execution_count": 8,
   "id": "218ab846-6147-4c44-a94d-f6b5f85d3155",
   "metadata": {},
   "outputs": [
    {
     "data": {
      "text/plain": [
       "'NIELIT'"
      ]
     },
     "execution_count": 8,
     "metadata": {},
     "output_type": "execute_result"
    }
   ],
   "source": [
    "c ='NIELIT'\n",
    "c"
   ]
  },
  {
   "cell_type": "code",
   "execution_count": 2,
   "id": "c7b60028-4860-4ad7-9f35-88b51328240d",
   "metadata": {},
   "outputs": [
    {
     "ename": "NameError",
     "evalue": "name 'b' is not defined",
     "output_type": "error",
     "traceback": [
      "\u001b[1;31m---------------------------------------------------------------------------\u001b[0m",
      "\u001b[1;31mNameError\u001b[0m                                 Traceback (most recent call last)",
      "Cell \u001b[1;32mIn[2], line 1\u001b[0m\n\u001b[1;32m----> 1\u001b[0m \u001b[38;5;28mprint\u001b[39m(b)\n",
      "\u001b[1;31mNameError\u001b[0m: name 'b' is not defined"
     ]
    }
   ],
   "source": [
    "print(b)"
   ]
  },
  {
   "cell_type": "markdown",
   "id": "e4bfce6e-c697-40e4-afe3-b894d37cd255",
   "metadata": {},
   "source": [
    "## Single Variable Assignment"
   ]
  },
  {
   "cell_type": "markdown",
   "id": "d82b0a20-fdf0-4b8e-95cf-e0ca84f7cfa4",
   "metadata": {},
   "source": [
    "#### . it is assigned by using \"=\" operator"
   ]
  },
  {
   "cell_type": "code",
   "execution_count": 5,
   "id": "7ed89d20-9199-4257-b0d7-c57a5db5d117",
   "metadata": {},
   "outputs": [
    {
     "data": {
      "text/plain": [
       "10"
      ]
     },
     "execution_count": 5,
     "metadata": {},
     "output_type": "execute_result"
    }
   ],
   "source": [
    "a = 10\n",
    "a    #here it shows the value of \"a\""
   ]
  },
  {
   "cell_type": "code",
   "execution_count": 6,
   "id": "69c22a33-1d7b-4885-b471-365d7a721776",
   "metadata": {},
   "outputs": [
    {
     "data": {
      "text/plain": [
       "int"
      ]
     },
     "execution_count": 6,
     "metadata": {},
     "output_type": "execute_result"
    }
   ],
   "source": [
    "type(a) # it shows which type of variable it contains "
   ]
  },
  {
   "cell_type": "code",
   "execution_count": 9,
   "id": "dcff5cfb-43c0-453b-acf6-832cd97f4b9d",
   "metadata": {},
   "outputs": [
    {
     "ename": "NameError",
     "evalue": "name 'b' is not defined",
     "output_type": "error",
     "traceback": [
      "\u001b[1;31m---------------------------------------------------------------------------\u001b[0m",
      "\u001b[1;31mNameError\u001b[0m                                 Traceback (most recent call last)",
      "Cell \u001b[1;32mIn[9], line 1\u001b[0m\n\u001b[1;32m----> 1\u001b[0m \u001b[38;5;28mtype\u001b[39m(b)\n",
      "\u001b[1;31mNameError\u001b[0m: name 'b' is not defined"
     ]
    }
   ],
   "source": [
    "type(b) # it shows error because\"b\" is not defined"
   ]
  },
  {
   "cell_type": "code",
   "execution_count": 10,
   "id": "1a028950-7a44-4f71-a075-4afc2fe83947",
   "metadata": {},
   "outputs": [
    {
     "data": {
      "text/plain": [
       "'abcd'"
      ]
     },
     "execution_count": 10,
     "metadata": {},
     "output_type": "execute_result"
    }
   ],
   "source": [
    "b= \"abcd\"\n",
    "b"
   ]
  },
  {
   "cell_type": "code",
   "execution_count": 11,
   "id": "6e5ceaf7-b272-43d7-9db2-a91e36f1dfe2",
   "metadata": {},
   "outputs": [
    {
     "data": {
      "text/plain": [
       "40"
      ]
     },
     "execution_count": 11,
     "metadata": {},
     "output_type": "execute_result"
    }
   ],
   "source": [
    "c=40\n",
    "c"
   ]
  },
  {
   "cell_type": "code",
   "execution_count": 13,
   "id": "963dde6f-faa6-4f91-bd5d-eace7cfe3fa8",
   "metadata": {},
   "outputs": [
    {
     "data": {
      "text/plain": [
       "int"
      ]
     },
     "execution_count": 13,
     "metadata": {},
     "output_type": "execute_result"
    }
   ],
   "source": [
    "type(c)  # is took the first value of c in this page"
   ]
  },
  {
   "cell_type": "code",
   "execution_count": 18,
   "id": "ffe7fd44-7f9e-4432-9737-cb77f9ea5aac",
   "metadata": {},
   "outputs": [
    {
     "name": "stdout",
     "output_type": "stream",
     "text": [
      "['False', 'None', 'True', 'and', 'as', 'assert', 'async', 'await', 'break', 'class', 'continue', 'def', 'del', 'elif', 'else', 'except', 'finally', 'for', 'from', 'global', 'if', 'import', 'in', 'is', 'lambda', 'nonlocal', 'not', 'or', 'pass', 'raise', 'return', 'try', 'while', 'with', 'yield']\n"
     ]
    }
   ],
   "source": [
    "import keyword #\"import keyword\" means it will import the keyword library \n",
    "print (keyword.kwlist)  # it shows keywords available in python "
   ]
  },
  {
   "cell_type": "code",
   "execution_count": 19,
   "id": "e9aee85c-4c33-4034-a135-5abcef8fba12",
   "metadata": {},
   "outputs": [
    {
     "data": {
      "text/plain": [
       "35"
      ]
     },
     "execution_count": 19,
     "metadata": {},
     "output_type": "execute_result"
    }
   ],
   "source": [
    "len(keyword.kwlist) # it will show the length of the keyword list (how many are available)"
   ]
  },
  {
   "cell_type": "code",
   "execution_count": 20,
   "id": "32512f74-689a-4433-ac3e-4612e05c0112",
   "metadata": {},
   "outputs": [
    {
     "ename": "SyntaxError",
     "evalue": "cannot assign to False (782537849.py, line 1)",
     "output_type": "error",
     "traceback": [
      "\u001b[1;36m  Cell \u001b[1;32mIn[20], line 1\u001b[1;36m\u001b[0m\n\u001b[1;33m    False = \"3456789\" # it will throw a error because\"False\" is a keyword\u001b[0m\n\u001b[1;37m    ^\u001b[0m\n\u001b[1;31mSyntaxError\u001b[0m\u001b[1;31m:\u001b[0m cannot assign to False\n"
     ]
    }
   ],
   "source": [
    "False = \"3456789\" # it will throw a error because\"False\" is a keyword\n",
    "False"
   ]
  },
  {
   "cell_type": "code",
   "execution_count": 21,
   "id": "be8fcbc7-7176-4cdf-bef0-2fda23323f96",
   "metadata": {},
   "outputs": [
    {
     "data": {
      "text/plain": [
       "80"
      ]
     },
     "execution_count": 21,
     "metadata": {},
     "output_type": "execute_result"
    }
   ],
   "source": [
    "a1 = 80\n",
    "a1"
   ]
  },
  {
   "cell_type": "code",
   "execution_count": 23,
   "id": "8ea5213c-c6c4-40a8-b9a9-a041eafcd5ea",
   "metadata": {},
   "outputs": [
    {
     "ename": "SyntaxError",
     "evalue": "invalid decimal literal (3685903751.py, line 1)",
     "output_type": "error",
     "traceback": [
      "\u001b[1;36m  Cell \u001b[1;32mIn[23], line 1\u001b[1;36m\u001b[0m\n\u001b[1;33m    1c = 34\u001b[0m\n\u001b[1;37m    ^\u001b[0m\n\u001b[1;31mSyntaxError\u001b[0m\u001b[1;31m:\u001b[0m invalid decimal literal\n"
     ]
    }
   ],
   "source": [
    "1c = 34\n",
    "1c    # variable name always start with alphabet "
   ]
  },
  {
   "cell_type": "code",
   "execution_count": 25,
   "id": "15122e06-1193-4949-b70b-cfca2d0d5481",
   "metadata": {},
   "outputs": [
    {
     "ename": "SyntaxError",
     "evalue": "invalid syntax (1061574377.py, line 1)",
     "output_type": "error",
     "traceback": [
      "\u001b[1;36m  Cell \u001b[1;32mIn[25], line 1\u001b[1;36m\u001b[0m\n\u001b[1;33m    b$7 = 56\u001b[0m\n\u001b[1;37m     ^\u001b[0m\n\u001b[1;31mSyntaxError\u001b[0m\u001b[1;31m:\u001b[0m invalid syntax\n"
     ]
    }
   ],
   "source": [
    "b$7 = 56\n",
    "b$7    #A variable accepts only underscore \"_\"symbol (other symbol is not accepted)"
   ]
  },
  {
   "cell_type": "code",
   "execution_count": 27,
   "id": "d7d491ff-a15d-418b-a24a-4f7981338a6f",
   "metadata": {},
   "outputs": [
    {
     "data": {
      "text/plain": [
       "4567"
      ]
     },
     "execution_count": 27,
     "metadata": {},
     "output_type": "execute_result"
    }
   ],
   "source": [
    "h_9 = 4567\n",
    "h_9"
   ]
  },
  {
   "cell_type": "code",
   "execution_count": 29,
   "id": "51cf3450-6c6a-46a6-8ac4-0ed288bc3bd0",
   "metadata": {},
   "outputs": [
    {
     "data": {
      "text/plain": [
       "2349095159408"
      ]
     },
     "execution_count": 29,
     "metadata": {},
     "output_type": "execute_result"
    }
   ],
   "source": [
    "id(h_9) #shows the location of the storage "
   ]
  },
  {
   "cell_type": "code",
   "execution_count": 33,
   "id": "072cf431-f082-451c-b11e-c39760aeb250",
   "metadata": {},
   "outputs": [
    {
     "data": {
      "text/plain": [
       "2349095163472"
      ]
     },
     "execution_count": 33,
     "metadata": {},
     "output_type": "execute_result"
    }
   ],
   "source": [
    "u = 4567\n",
    "u\n",
    "id(u)  "
   ]
  },
  {
   "cell_type": "code",
   "execution_count": 34,
   "id": "81f4b86d-4c73-45df-978b-fda298243948",
   "metadata": {},
   "outputs": [
    {
     "data": {
      "text/plain": [
       "140728513252200"
      ]
     },
     "execution_count": 34,
     "metadata": {},
     "output_type": "execute_result"
    }
   ],
   "source": [
    "p = 23\n",
    "k = 67\n",
    "id(k)"
   ]
  },
  {
   "cell_type": "code",
   "execution_count": 35,
   "id": "672dd20d-70f8-4ec4-9875-4098f1edc262",
   "metadata": {},
   "outputs": [
    {
     "data": {
      "text/plain": [
       "140728513250792"
      ]
     },
     "execution_count": 35,
     "metadata": {},
     "output_type": "execute_result"
    }
   ],
   "source": [
    "id(p) "
   ]
  },
  {
   "cell_type": "code",
   "execution_count": 36,
   "id": "ec9de8de-b210-4ae8-9d76-058779f0a140",
   "metadata": {},
   "outputs": [
    {
     "data": {
      "text/plain": [
       "140728513253192"
      ]
     },
     "execution_count": 36,
     "metadata": {},
     "output_type": "execute_result"
    }
   ],
   "source": [
    "p=98\n",
    "id(p)"
   ]
  },
  {
   "cell_type": "code",
   "execution_count": 37,
   "id": "99dd56a1-0b60-457b-b6cf-eb57f463a6eb",
   "metadata": {},
   "outputs": [
    {
     "name": "stdout",
     "output_type": "stream",
     "text": [
      "The summation of two numbers are  130\n"
     ]
    }
   ],
   "source": [
    "a = 90\n",
    "b = 40\n",
    "sum = a+b\n",
    "print(\"The summation of two numbers are \",sum)"
   ]
  },
  {
   "cell_type": "code",
   "execution_count": 38,
   "id": "2d99a13c-ea40-4413-883b-2d99cfd89b98",
   "metadata": {},
   "outputs": [
    {
     "name": "stdout",
     "output_type": "stream",
     "text": [
      "The summation of two numbers are  130\n"
     ]
    }
   ],
   "source": [
    "a = 90\n",
    "b = 40\n",
    "sum = a+b\n",
    "print(\"The summation of two numbers are \",sum)   # \"print\" function use for what you want to see in the display "
   ]
  },
  {
   "cell_type": "code",
   "execution_count": 39,
   "id": "d03fcb1d-44e6-4704-aeb0-03cb7772c5ab",
   "metadata": {},
   "outputs": [
    {
     "data": {
      "text/plain": [
       "('The summation of two numbers are ', 130)"
      ]
     },
     "execution_count": 39,
     "metadata": {},
     "output_type": "execute_result"
    }
   ],
   "source": [
    "\"The summation of two numbers are \",sum"
   ]
  },
  {
   "cell_type": "code",
   "execution_count": 40,
   "id": "bad85d1a-0dd8-4701-ab8a-792fb339807d",
   "metadata": {},
   "outputs": [
    {
     "data": {
      "text/plain": [
       "130"
      ]
     },
     "execution_count": 40,
     "metadata": {},
     "output_type": "execute_result"
    }
   ],
   "source": [
    "sum"
   ]
  },
  {
   "cell_type": "code",
   "execution_count": 41,
   "id": "3268bf52-6408-4ba0-99b0-88c7e77ef010",
   "metadata": {},
   "outputs": [
    {
     "data": {
      "text/plain": [
       "80"
      ]
     },
     "execution_count": 41,
     "metadata": {},
     "output_type": "execute_result"
    }
   ],
   "source": [
    "p = q = r = 80\n",
    "q"
   ]
  },
  {
   "cell_type": "code",
   "execution_count": 42,
   "id": "eb12c556-afaf-4ad0-9d1e-8fc71d9a524d",
   "metadata": {},
   "outputs": [
    {
     "data": {
      "text/plain": [
       "80"
      ]
     },
     "execution_count": 42,
     "metadata": {},
     "output_type": "execute_result"
    }
   ],
   "source": [
    "p"
   ]
  },
  {
   "cell_type": "code",
   "execution_count": 43,
   "id": "67002811-e8d8-46a2-bda0-9643dfbcaad7",
   "metadata": {},
   "outputs": [
    {
     "data": {
      "text/plain": [
       "80"
      ]
     },
     "execution_count": 43,
     "metadata": {},
     "output_type": "execute_result"
    }
   ],
   "source": [
    "r"
   ]
  },
  {
   "cell_type": "code",
   "execution_count": 45,
   "id": "afb60c68-ac82-41e7-9eaf-caf3e75ea64e",
   "metadata": {},
   "outputs": [
    {
     "name": "stdout",
     "output_type": "stream",
     "text": [
      "90\n"
     ]
    }
   ],
   "source": [
    "print(abc)"
   ]
  },
  {
   "cell_type": "code",
   "execution_count": 47,
   "id": "2ee76192-05ba-4cc7-81a5-60bbebf47cb7",
   "metadata": {},
   "outputs": [
    {
     "name": "stdout",
     "output_type": "stream",
     "text": [
      "76\n"
     ]
    }
   ],
   "source": [
    "a = 76\n",
    "print(a)"
   ]
  },
  {
   "cell_type": "code",
   "execution_count": 48,
   "id": "26e70d87-eeb8-4e7e-a430-fa767a729f25",
   "metadata": {},
   "outputs": [],
   "source": [
    "del(a) # it will delete the element from the storage "
   ]
  },
  {
   "cell_type": "code",
   "execution_count": 49,
   "id": "8cde9e21-a38a-4778-ae07-58780f46e28e",
   "metadata": {},
   "outputs": [
    {
     "ename": "NameError",
     "evalue": "name 'a' is not defined",
     "output_type": "error",
     "traceback": [
      "\u001b[1;31m---------------------------------------------------------------------------\u001b[0m",
      "\u001b[1;31mNameError\u001b[0m                                 Traceback (most recent call last)",
      "Cell \u001b[1;32mIn[49], line 1\u001b[0m\n\u001b[1;32m----> 1\u001b[0m \u001b[38;5;28mprint\u001b[39m(a)\n",
      "\u001b[1;31mNameError\u001b[0m: name 'a' is not defined"
     ]
    }
   ],
   "source": [
    "print(a) # it shows a error because \"a\" was deleted using \"del\" function"
   ]
  },
  {
   "cell_type": "code",
   "execution_count": 50,
   "id": "ebacf9cd-7024-4c88-9d59-f18363887057",
   "metadata": {},
   "outputs": [],
   "source": [
    "x=78\n",
    "y=56\n",
    "z=40\n",
    "del x,z"
   ]
  },
  {
   "cell_type": "code",
   "execution_count": 51,
   "id": "5087f07c-521f-4d14-94c7-cd6d444014c8",
   "metadata": {},
   "outputs": [
    {
     "name": "stdout",
     "output_type": "stream",
     "text": [
      "56\n"
     ]
    }
   ],
   "source": [
    "print(y)"
   ]
  },
  {
   "cell_type": "code",
   "execution_count": 52,
   "id": "a45c779a-743a-4b9b-aa83-35c19451dbcf",
   "metadata": {},
   "outputs": [
    {
     "ename": "NameError",
     "evalue": "name 'x' is not defined",
     "output_type": "error",
     "traceback": [
      "\u001b[1;31m---------------------------------------------------------------------------\u001b[0m",
      "\u001b[1;31mNameError\u001b[0m                                 Traceback (most recent call last)",
      "Cell \u001b[1;32mIn[52], line 1\u001b[0m\n\u001b[1;32m----> 1\u001b[0m \u001b[38;5;28mprint\u001b[39m(x)\n",
      "\u001b[1;31mNameError\u001b[0m: name 'x' is not defined"
     ]
    }
   ],
   "source": [
    "print(x)"
   ]
  },
  {
   "cell_type": "markdown",
   "id": "857fd506-8d43-4eb9-8372-deab8c02fc70",
   "metadata": {},
   "source": [
    "# Multiple Assignments"
   ]
  },
  {
   "cell_type": "code",
   "execution_count": 44,
   "id": "9d30d553-ce48-4815-a600-67cf2366fd0f",
   "metadata": {},
   "outputs": [
    {
     "name": "stdout",
     "output_type": "stream",
     "text": [
      "76 89 23\n"
     ]
    }
   ],
   "source": [
    "a= 76\n",
    "b = 89\n",
    "c = 23\n",
    "abc = 90\n",
    "print(a,b,c)"
   ]
  },
  {
   "cell_type": "code",
   "execution_count": 54,
   "id": "67df281c-96b7-4777-a687-0d3a721ea584",
   "metadata": {},
   "outputs": [
    {
     "name": "stdout",
     "output_type": "stream",
     "text": [
      "78 23 45\n"
     ]
    }
   ],
   "source": [
    "a,b,c= 78,23,45\n",
    "print(a,b,c)"
   ]
  },
  {
   "cell_type": "code",
   "execution_count": 56,
   "id": "81c48cc1-29ca-4925-b3c7-0bf3437cd03c",
   "metadata": {},
   "outputs": [
    {
     "name": "stdout",
     "output_type": "stream",
     "text": [
      "HII\n"
     ]
    }
   ],
   "source": [
    "x = y = z = \"HII\"\n",
    "print(y)"
   ]
  }
 ],
 "metadata": {
  "kernelspec": {
   "display_name": "Python 3 (ipykernel)",
   "language": "python",
   "name": "python3"
  },
  "language_info": {
   "codemirror_mode": {
    "name": "ipython",
    "version": 3
   },
   "file_extension": ".py",
   "mimetype": "text/x-python",
   "name": "python",
   "nbconvert_exporter": "python",
   "pygments_lexer": "ipython3",
   "version": "3.11.7"
  }
 },
 "nbformat": 4,
 "nbformat_minor": 5
}
